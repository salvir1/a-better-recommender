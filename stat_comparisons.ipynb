{
 "cells": [
  {
   "cell_type": "code",
   "execution_count": 202,
   "metadata": {},
   "outputs": [],
   "source": [
    "import re\n",
    "import numpy as np\n",
    "import pandas as pd\n",
    "import matplotlib.pyplot as plt\n",
    "%matplotlib inline\n",
    "import pickle\n",
    "# from pyspark.sql.functions import *\n",
    "import pyspark as ps    # for the pyspark suite\n",
    "# from pyspark.sql.types import StructType, StructField\n",
    "# from pyspark.sql.types import IntegerType, StringType, FloatType, DateType, TimestampType\n",
    "# import pyspark.sql.functions as F\n",
    "# from pyspark.ml.evaluation import RegressionEvaluator\n",
    "# from pyspark.ml.tuning import CrossValidator, ParamGridBuilder, TrainValidationSplit\n",
    "# from pyspark.ml.recommendation import ALS\n",
    "# from pyspark.sql import Row\n",
    "\n",
    "spark = ps.sql.SparkSession.builder \\\n",
    "            .master(\"local[4]\") \\\n",
    "            .appName(\"df lecture\") \\\n",
    "            .getOrCreate()\n",
    "\n",
    "sc = spark.sparkContext  # for the pre-2.0 sparkContext"
   ]
  },
  {
   "cell_type": "code",
   "execution_count": 203,
   "metadata": {},
   "outputs": [],
   "source": [
    "from lightfm import LightFM\n",
    "# from lightfm.data import Dataset\n",
    "# from lightfm.evaluation import precision_at_k\n",
    "# from lightfm.evaluation import auc_score\n",
    "# from lightfm.cross_validation import random_train_test_split"
   ]
  },
  {
   "cell_type": "markdown",
   "metadata": {},
   "source": [
    "## Recommender model comparisons"
   ]
  },
  {
   "cell_type": "code",
   "execution_count": 204,
   "metadata": {},
   "outputs": [],
   "source": [
    "from pyspark.ml import recommendation\n",
    "mPath =  \"als_recommender\"\n",
    "persisted_ALS_model = recommendation.ALSModel.load(mPath)\n",
    "\n",
    "pickle_in = open(\"lightfm-no-features.pkl\",\"rb\")\n",
    "persisted_light_FM = pickle.load(pickle_in)\n",
    "pickle_in_dataset = open(\"dataset-lightfm-no-features.pkl\",\"rb\")\n",
    "persisted_dataset_light_FM = pickle.load(pickle_in_dataset)\n",
    "\n",
    "validata = pd.read_csv('data/test_ratings_df.csv')"
   ]
  },
  {
   "cell_type": "code",
   "execution_count": 258,
   "metadata": {},
   "outputs": [],
   "source": [
    "def calc_prediction_scores(holdout_set):\n",
    "    count = 0\n",
    "    user_ground_truth, movie_mean_rating, lfm_rating, als_rating = [], [], [], []\n",
    "    ho_users = holdout_set.groupby('userId').count().reset_index()['userId']\n",
    "    for user in ho_users:\n",
    "        count += 1\n",
    "        if count < 40000:\n",
    "            sampled_user_movies = holdout_set[holdout_set['userId'] == user][['movieId','rating','mean']]#'movie Id numbers, not indices'\n",
    "            sampled_user_movies['userId'] = user\n",
    "\n",
    "            movie_samps = []\n",
    "            for movie in sampled_user_movies['movieId']:\n",
    "                movie_samps.append(persisted_dataset_light_FM.mapping()[2][movie])\n",
    "                \n",
    "            # ALS Model predictions\n",
    "            df2=spark.createDataFrame(sampled_user_movies)\n",
    "            ALS_pred=persisted_ALS_model.transform(df2).toPandas()\n",
    "#             print(ALS_pred.head(3))\n",
    "            \n",
    "            #LightFM model predictions\n",
    "            prediction = persisted_light_FM.predict(user_ids = persisted_dataset_light_FM.mapping()[0][sampled_user], item_ids = movie_samps, item_features=None, user_features=None)\n",
    "            sampled_user_movies['lfm_predict'] = prediction\n",
    "#             print(sampled_user_movies.sort_values(by='lfm_predict',ascending=False).head(3))\n",
    "            \n",
    "            sampled_user_movies=sampled_user_movies.drop(['rating', 'mean','userId'], axis=1)\n",
    "            sampled_user_movies=sampled_user_movies.merge(ALS_pred, how='inner', left_on='movieId', right_on='movieId')\n",
    "            sampled_user_movies=sampled_user_movies.rename(columns = {'prediction':'als_predict'})\n",
    "            \n",
    "            user_ground_truth.append(sampled_user_movies.sort_values('rating', ascending=False).head(5).sum()['rating'] / 5)\n",
    "            movie_mean_rating.append(sampled_user_movies.sort_values('mean', ascending=False).head(5).sum()['rating'] / 5)\n",
    "            lfm_rating.append(sampled_user_movies.sort_values('lfm_predict', ascending=False).head(5).sum()['rating'] / 5)\n",
    "            als_rating.append(sampled_user_movies.sort_values('als_predict', ascending=False).head(5).sum()['rating'] / 5)\n",
    "    \n",
    "    return np.mean(user_ground_truth), np.std(user_ground_truth), np.mean(movie_mean_rating), np.std(movie_mean_rating), np.mean(lfm_rating), np.std(lfm_rating), np.mean(als_rating), np.std(als_rating)\n",
    "        "
   ]
  },
  {
   "cell_type": "code",
   "execution_count": 259,
   "metadata": {},
   "outputs": [
    {
     "data": {
      "text/plain": [
       "(4.545214263371911,\n",
       " 0.375163097982003,\n",
       " 3.920566155771035,\n",
       " 0.5610779805313288,\n",
       " 3.451485767907413,\n",
       " 0.609844030220542,\n",
       " 4.058883328120112,\n",
       " 0.48690394324472214)"
      ]
     },
     "execution_count": 259,
     "metadata": {},
     "output_type": "execute_result"
    }
   ],
   "source": [
    "calc_prediction_scores(validata)"
   ]
  },
  {
   "cell_type": "markdown",
   "metadata": {},
   "source": [
    "### Code used to construct the function above"
   ]
  },
  {
   "cell_type": "code",
   "execution_count": 180,
   "metadata": {},
   "outputs": [],
   "source": [
    "sample = validata.sample(1) # Redraw sample\n",
    "sampled_user = sample['userId'].iloc[0] # userId, not index number\n",
    "sampled_user_movies = validata[validata['userId'] == sampled_user][['movieId','rating','mean']]#'movie Id numbers, not indices'\n",
    "sampled_user_movies['userId'] = sampled_user\n",
    "\n",
    "movie_samps = []\n",
    "for movie in sampled_user_movies['movieId']:\n",
    "    movie_samps.append(persisted_dataset_light_FM.mapping()[2][movie])"
   ]
  },
  {
   "cell_type": "code",
   "execution_count": 181,
   "metadata": {},
   "outputs": [
    {
     "data": {
      "text/html": [
       "<div>\n",
       "<style scoped>\n",
       "    .dataframe tbody tr th:only-of-type {\n",
       "        vertical-align: middle;\n",
       "    }\n",
       "\n",
       "    .dataframe tbody tr th {\n",
       "        vertical-align: top;\n",
       "    }\n",
       "\n",
       "    .dataframe thead th {\n",
       "        text-align: right;\n",
       "    }\n",
       "</style>\n",
       "<table border=\"1\" class=\"dataframe\">\n",
       "  <thead>\n",
       "    <tr style=\"text-align: right;\">\n",
       "      <th></th>\n",
       "      <th>movieId</th>\n",
       "      <th>rating</th>\n",
       "      <th>mean</th>\n",
       "      <th>userId</th>\n",
       "      <th>prediction</th>\n",
       "    </tr>\n",
       "  </thead>\n",
       "  <tbody>\n",
       "    <tr>\n",
       "      <th>0</th>\n",
       "      <td>1206</td>\n",
       "      <td>3.5</td>\n",
       "      <td>3.984191</td>\n",
       "      <td>58098</td>\n",
       "      <td>3.741397</td>\n",
       "    </tr>\n",
       "    <tr>\n",
       "      <th>1</th>\n",
       "      <td>2607</td>\n",
       "      <td>4.0</td>\n",
       "      <td>3.782230</td>\n",
       "      <td>58098</td>\n",
       "      <td>3.791891</td>\n",
       "    </tr>\n",
       "    <tr>\n",
       "      <th>2</th>\n",
       "      <td>2723</td>\n",
       "      <td>2.0</td>\n",
       "      <td>3.063125</td>\n",
       "      <td>58098</td>\n",
       "      <td>2.908971</td>\n",
       "    </tr>\n",
       "    <tr>\n",
       "      <th>3</th>\n",
       "      <td>1009</td>\n",
       "      <td>4.0</td>\n",
       "      <td>3.150767</td>\n",
       "      <td>58098</td>\n",
       "      <td>2.973567</td>\n",
       "    </tr>\n",
       "    <tr>\n",
       "      <th>4</th>\n",
       "      <td>6322</td>\n",
       "      <td>3.0</td>\n",
       "      <td>3.445218</td>\n",
       "      <td>58098</td>\n",
       "      <td>3.181064</td>\n",
       "    </tr>\n",
       "  </tbody>\n",
       "</table>\n",
       "</div>"
      ],
      "text/plain": [
       "   movieId  rating      mean  userId  prediction\n",
       "0     1206     3.5  3.984191   58098    3.741397\n",
       "1     2607     4.0  3.782230   58098    3.791891\n",
       "2     2723     2.0  3.063125   58098    2.908971\n",
       "3     1009     4.0  3.150767   58098    2.973567\n",
       "4     6322     3.0  3.445218   58098    3.181064"
      ]
     },
     "execution_count": 181,
     "metadata": {},
     "output_type": "execute_result"
    }
   ],
   "source": [
    "# ALS Model predictions\n",
    "df2=spark.createDataFrame(sampled_user_movies)\n",
    "ALS_pred=persisted_ALS_model.transform(df2).toPandas()\n",
    "ALS_pred.head()"
   ]
  },
  {
   "cell_type": "code",
   "execution_count": 182,
   "metadata": {},
   "outputs": [
    {
     "data": {
      "text/html": [
       "<div>\n",
       "<style scoped>\n",
       "    .dataframe tbody tr th:only-of-type {\n",
       "        vertical-align: middle;\n",
       "    }\n",
       "\n",
       "    .dataframe tbody tr th {\n",
       "        vertical-align: top;\n",
       "    }\n",
       "\n",
       "    .dataframe thead th {\n",
       "        text-align: right;\n",
       "    }\n",
       "</style>\n",
       "<table border=\"1\" class=\"dataframe\">\n",
       "  <thead>\n",
       "    <tr style=\"text-align: right;\">\n",
       "      <th></th>\n",
       "      <th>movieId</th>\n",
       "      <th>rating</th>\n",
       "      <th>mean</th>\n",
       "      <th>userId</th>\n",
       "      <th>lfm_predict</th>\n",
       "    </tr>\n",
       "  </thead>\n",
       "  <tbody>\n",
       "    <tr>\n",
       "      <th>68627</th>\n",
       "      <td>1270</td>\n",
       "      <td>3.5</td>\n",
       "      <td>3.953876</td>\n",
       "      <td>58098</td>\n",
       "      <td>0.469942</td>\n",
       "    </tr>\n",
       "    <tr>\n",
       "      <th>68620</th>\n",
       "      <td>1680</td>\n",
       "      <td>3.5</td>\n",
       "      <td>3.545137</td>\n",
       "      <td>58098</td>\n",
       "      <td>0.113050</td>\n",
       "    </tr>\n",
       "    <tr>\n",
       "      <th>68621</th>\n",
       "      <td>2617</td>\n",
       "      <td>2.5</td>\n",
       "      <td>3.205517</td>\n",
       "      <td>58098</td>\n",
       "      <td>0.066442</td>\n",
       "    </tr>\n",
       "    <tr>\n",
       "      <th>68634</th>\n",
       "      <td>2700</td>\n",
       "      <td>5.0</td>\n",
       "      <td>3.626362</td>\n",
       "      <td>58098</td>\n",
       "      <td>-0.001425</td>\n",
       "    </tr>\n",
       "    <tr>\n",
       "      <th>68632</th>\n",
       "      <td>2687</td>\n",
       "      <td>3.5</td>\n",
       "      <td>3.484784</td>\n",
       "      <td>58098</td>\n",
       "      <td>-0.175512</td>\n",
       "    </tr>\n",
       "  </tbody>\n",
       "</table>\n",
       "</div>"
      ],
      "text/plain": [
       "       movieId  rating      mean  userId  lfm_predict\n",
       "68627     1270     3.5  3.953876   58098     0.469942\n",
       "68620     1680     3.5  3.545137   58098     0.113050\n",
       "68621     2617     2.5  3.205517   58098     0.066442\n",
       "68634     2700     5.0  3.626362   58098    -0.001425\n",
       "68632     2687     3.5  3.484784   58098    -0.175512"
      ]
     },
     "execution_count": 182,
     "metadata": {},
     "output_type": "execute_result"
    }
   ],
   "source": [
    "#LightFM model predictions\n",
    "prediction = persisted_light_FM.predict(user_ids = persisted_dataset_light_FM.mapping()[0][sampled_user], item_ids = movie_samps, item_features=None, user_features=None)\n",
    "sampled_user_movies['lfm_predict'] = prediction\n",
    "sampled_user_movies.sort_values(by='lfm_predict',ascending=False).head()"
   ]
  },
  {
   "cell_type": "code",
   "execution_count": 183,
   "metadata": {},
   "outputs": [],
   "source": [
    "sampled_user_movies=sampled_user_movies.drop(['rating', 'mean','userId'], axis=1)\n",
    "sampled_user_movies=sampled_user_movies.merge(ALS_pred, how='inner', left_on='movieId', right_on='movieId')\n",
    "sampled_user_movies=sampled_user_movies.rename(columns = {'prediction':'als_predict'})"
   ]
  },
  {
   "cell_type": "code",
   "execution_count": 184,
   "metadata": {},
   "outputs": [
    {
     "data": {
      "text/html": [
       "<div>\n",
       "<style scoped>\n",
       "    .dataframe tbody tr th:only-of-type {\n",
       "        vertical-align: middle;\n",
       "    }\n",
       "\n",
       "    .dataframe tbody tr th {\n",
       "        vertical-align: top;\n",
       "    }\n",
       "\n",
       "    .dataframe thead th {\n",
       "        text-align: right;\n",
       "    }\n",
       "</style>\n",
       "<table border=\"1\" class=\"dataframe\">\n",
       "  <thead>\n",
       "    <tr style=\"text-align: right;\">\n",
       "      <th></th>\n",
       "      <th>movieId</th>\n",
       "      <th>lfm_predict</th>\n",
       "      <th>rating</th>\n",
       "      <th>mean</th>\n",
       "      <th>userId</th>\n",
       "      <th>als_predict</th>\n",
       "    </tr>\n",
       "  </thead>\n",
       "  <tbody>\n",
       "    <tr>\n",
       "      <th>0</th>\n",
       "      <td>1206</td>\n",
       "      <td>-1.216506</td>\n",
       "      <td>3.5</td>\n",
       "      <td>3.984191</td>\n",
       "      <td>58098</td>\n",
       "      <td>3.741397</td>\n",
       "    </tr>\n",
       "    <tr>\n",
       "      <th>1</th>\n",
       "      <td>2607</td>\n",
       "      <td>-1.909662</td>\n",
       "      <td>4.0</td>\n",
       "      <td>3.782230</td>\n",
       "      <td>58098</td>\n",
       "      <td>3.791891</td>\n",
       "    </tr>\n",
       "    <tr>\n",
       "      <th>2</th>\n",
       "      <td>2723</td>\n",
       "      <td>-0.224432</td>\n",
       "      <td>2.0</td>\n",
       "      <td>3.063125</td>\n",
       "      <td>58098</td>\n",
       "      <td>2.908971</td>\n",
       "    </tr>\n",
       "    <tr>\n",
       "      <th>3</th>\n",
       "      <td>1009</td>\n",
       "      <td>-1.122579</td>\n",
       "      <td>4.0</td>\n",
       "      <td>3.150767</td>\n",
       "      <td>58098</td>\n",
       "      <td>2.973567</td>\n",
       "    </tr>\n",
       "    <tr>\n",
       "      <th>4</th>\n",
       "      <td>6322</td>\n",
       "      <td>-1.990797</td>\n",
       "      <td>3.0</td>\n",
       "      <td>3.445218</td>\n",
       "      <td>58098</td>\n",
       "      <td>3.181064</td>\n",
       "    </tr>\n",
       "  </tbody>\n",
       "</table>\n",
       "</div>"
      ],
      "text/plain": [
       "   movieId  lfm_predict  rating      mean  userId  als_predict\n",
       "0     1206    -1.216506     3.5  3.984191   58098     3.741397\n",
       "1     2607    -1.909662     4.0  3.782230   58098     3.791891\n",
       "2     2723    -0.224432     2.0  3.063125   58098     2.908971\n",
       "3     1009    -1.122579     4.0  3.150767   58098     2.973567\n",
       "4     6322    -1.990797     3.0  3.445218   58098     3.181064"
      ]
     },
     "execution_count": 184,
     "metadata": {},
     "output_type": "execute_result"
    }
   ],
   "source": [
    "sampled_user_movies.head()"
   ]
  },
  {
   "cell_type": "code",
   "execution_count": 185,
   "metadata": {},
   "outputs": [],
   "source": [
    "user_ground_truth = sampled_user_movies.sort_values('rating', ascending=False).head(5).sum()['rating'] / 5"
   ]
  },
  {
   "cell_type": "code",
   "execution_count": 186,
   "metadata": {},
   "outputs": [
    {
     "data": {
      "text/plain": [
       "4.7"
      ]
     },
     "execution_count": 186,
     "metadata": {},
     "output_type": "execute_result"
    }
   ],
   "source": [
    "user_ground_truth"
   ]
  },
  {
   "cell_type": "code",
   "execution_count": 187,
   "metadata": {},
   "outputs": [],
   "source": [
    "movie_mean_rating = sampled_user_movies.sort_values('mean', ascending=False).head(5).sum()['rating'] / 5"
   ]
  },
  {
   "cell_type": "code",
   "execution_count": 188,
   "metadata": {},
   "outputs": [
    {
     "data": {
      "text/plain": [
       "3.9"
      ]
     },
     "execution_count": 188,
     "metadata": {},
     "output_type": "execute_result"
    }
   ],
   "source": [
    "movie_mean_rating"
   ]
  },
  {
   "cell_type": "code",
   "execution_count": 189,
   "metadata": {},
   "outputs": [],
   "source": [
    "lfm_rating = sampled_user_movies.sort_values('lfm_predict', ascending=False).head(5).sum()['rating'] / 5\n"
   ]
  },
  {
   "cell_type": "code",
   "execution_count": 190,
   "metadata": {},
   "outputs": [
    {
     "data": {
      "text/plain": [
       "3.6"
      ]
     },
     "execution_count": 190,
     "metadata": {},
     "output_type": "execute_result"
    }
   ],
   "source": [
    "lfm_rating"
   ]
  },
  {
   "cell_type": "code",
   "execution_count": 191,
   "metadata": {},
   "outputs": [],
   "source": [
    "als_rating = sampled_user_movies.sort_values('als_predict', ascending=False).head(5).sum()['rating'] / 5"
   ]
  },
  {
   "cell_type": "code",
   "execution_count": 192,
   "metadata": {},
   "outputs": [
    {
     "data": {
      "text/plain": [
       "4.1"
      ]
     },
     "execution_count": 192,
     "metadata": {},
     "output_type": "execute_result"
    }
   ],
   "source": [
    "als_rating"
   ]
  },
  {
   "cell_type": "code",
   "execution_count": null,
   "metadata": {},
   "outputs": [],
   "source": []
  }
 ],
 "metadata": {
  "kernelspec": {
   "display_name": "Python 3",
   "language": "python",
   "name": "python3"
  },
  "language_info": {
   "codemirror_mode": {
    "name": "ipython",
    "version": 3
   },
   "file_extension": ".py",
   "mimetype": "text/x-python",
   "name": "python",
   "nbconvert_exporter": "python",
   "pygments_lexer": "ipython3",
   "version": "3.8.5"
  }
 },
 "nbformat": 4,
 "nbformat_minor": 4
}
