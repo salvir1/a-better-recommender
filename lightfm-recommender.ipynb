{
 "cells": [
  {
   "cell_type": "code",
   "execution_count": 16,
   "metadata": {},
   "outputs": [],
   "source": [
    "# import pyspark as ps\n",
    "import pandas as pd\n",
    "import numpy as np\n",
    "# from pyspark.sql import SparkSession\n",
    "# from pyspark.ml.evaluation import RegressionEvaluator\n",
    "from sklearn.metrics import mean_squared_error\n",
    "# spark = SparkSession.builder.getOrCreate()\n",
    "import pickle\n",
    "import boto3\n",
    "from io import BytesIO\n",
    "from src.movie_class import *"
   ]
  },
  {
   "cell_type": "code",
   "execution_count": 36,
   "metadata": {},
   "outputs": [],
   "source": [
    "from lightfm import LightFM\n",
    "from lightfm.data import Dataset\n",
    "from lightfm.evaluation import precision_at_k\n",
    "from lightfm.evaluation import auc_score\n",
    "from lightfm.cross_validation import random_train_test_split"
   ]
  },
  {
   "cell_type": "code",
   "execution_count": 17,
   "metadata": {},
   "outputs": [
    {
     "name": "stdout",
     "output_type": "stream",
     "text": [
      "The autoreload extension is already loaded. To reload it, use:\n",
      "  %reload_ext autoreload\n"
     ]
    }
   ],
   "source": [
    "%load_ext autoreload\n",
    "%autoreload 2"
   ]
  },
  {
   "cell_type": "code",
   "execution_count": 38,
   "metadata": {},
   "outputs": [],
   "source": [
    "s3 = boto3.client('s3')\n",
    "s3.list_buckets()"
   ]
  },
  {
   "cell_type": "code",
   "execution_count": 39,
   "metadata": {},
   "outputs": [],
   "source": [
    "def pickle_read(filename, bucket='galvrjsbucket'):\n",
    "    s3 = boto3.client('s3')\n",
    "    obj = s3.get_object(Bucket=bucket, Key=filename)\n",
    "    data = obj['Body'].read()\n",
    "    f = BytesIO(data)\n",
    "    file = pickle.load(f)\n",
    "    return file\n",
    "\n",
    "def read_dataframe_from_s3(filename, bucket='galvrjsbucket'):\n",
    "    s3 = boto3.client('s3')\n",
    "    obj = s3.get_object(Bucket=bucket, Key=filename)\n",
    "    data = obj['Body'].read()\n",
    "    f = BytesIO(data)\n",
    "    df = pd.read_csv(f)\n",
    "    return df\n",
    "\n",
    "def pickle_write_to_s3(filename, bucket='galvrjsbucket'):\n",
    "    s3 = boto3.client('s3')\n",
    "    obj = s3.put_object(Bucket=bucket, Key=filename)\n",
    "\n",
    "def pickle_model(model_name, file_name):\n",
    "        '''Writes model to a pkl file'''\n",
    "        with open(file_name, 'wb') as f:\n",
    "            pickle.dump(model_name, f)"
   ]
  },
  {
   "cell_type": "markdown",
   "metadata": {},
   "source": [
    "### Loading data\n",
    "- Stored on s3\n",
    "- Two files, the ratings file and the movie features file"
   ]
  },
  {
   "cell_type": "code",
   "execution_count": 95,
   "metadata": {},
   "outputs": [],
   "source": [
    "df = read_dataframe_from_s3('filtered_ratings.csv')"
   ]
  },
  {
   "cell_type": "code",
   "execution_count": 95,
   "metadata": {},
   "outputs": [],
   "source": [
    "data = df.sample(frac=0.25, random_state=51)"
   ]
  },
  {
   "cell_type": "code",
   "execution_count": 119,
   "metadata": {},
   "outputs": [
    {
     "data": {
      "text/html": [
       "<div>\n",
       "<style scoped>\n",
       "    .dataframe tbody tr th:only-of-type {\n",
       "        vertical-align: middle;\n",
       "    }\n",
       "\n",
       "    .dataframe tbody tr th {\n",
       "        vertical-align: top;\n",
       "    }\n",
       "\n",
       "    .dataframe thead th {\n",
       "        text-align: right;\n",
       "    }\n",
       "</style>\n",
       "<table border=\"1\" class=\"dataframe\">\n",
       "  <thead>\n",
       "    <tr style=\"text-align: right;\">\n",
       "      <th></th>\n",
       "      <th>userId</th>\n",
       "      <th>movieId</th>\n",
       "      <th>rating</th>\n",
       "      <th>count</th>\n",
       "      <th>mean</th>\n",
       "      <th>std</th>\n",
       "      <th>stat_score</th>\n",
       "    </tr>\n",
       "  </thead>\n",
       "  <tbody>\n",
       "    <tr>\n",
       "      <th>2050060</th>\n",
       "      <td>57338</td>\n",
       "      <td>1291</td>\n",
       "      <td>4.0</td>\n",
       "      <td>37908</td>\n",
       "      <td>3.985201</td>\n",
       "      <td>0.861053</td>\n",
       "      <td>5.276780</td>\n",
       "    </tr>\n",
       "    <tr>\n",
       "      <th>11805774</th>\n",
       "      <td>22522</td>\n",
       "      <td>273</td>\n",
       "      <td>3.0</td>\n",
       "      <td>6796</td>\n",
       "      <td>3.132063</td>\n",
       "      <td>0.950057</td>\n",
       "      <td>4.557148</td>\n",
       "    </tr>\n",
       "    <tr>\n",
       "      <th>6853069</th>\n",
       "      <td>134561</td>\n",
       "      <td>48385</td>\n",
       "      <td>4.5</td>\n",
       "      <td>13716</td>\n",
       "      <td>3.362278</td>\n",
       "      <td>1.195487</td>\n",
       "      <td>5.155509</td>\n",
       "    </tr>\n",
       "    <tr>\n",
       "      <th>7521388</th>\n",
       "      <td>50839</td>\n",
       "      <td>68157</td>\n",
       "      <td>3.5</td>\n",
       "      <td>23077</td>\n",
       "      <td>4.011397</td>\n",
       "      <td>0.894771</td>\n",
       "      <td>5.353553</td>\n",
       "    </tr>\n",
       "    <tr>\n",
       "      <th>1938246</th>\n",
       "      <td>98490</td>\n",
       "      <td>1246</td>\n",
       "      <td>4.5</td>\n",
       "      <td>24954</td>\n",
       "      <td>3.922377</td>\n",
       "      <td>0.863509</td>\n",
       "      <td>5.217641</td>\n",
       "    </tr>\n",
       "  </tbody>\n",
       "</table>\n",
       "</div>"
      ],
      "text/plain": [
       "          userId  movieId  rating  count      mean       std  stat_score\n",
       "2050060    57338     1291     4.0  37908  3.985201  0.861053    5.276780\n",
       "11805774   22522      273     3.0   6796  3.132063  0.950057    4.557148\n",
       "6853069   134561    48385     4.5  13716  3.362278  1.195487    5.155509\n",
       "7521388    50839    68157     3.5  23077  4.011397  0.894771    5.353553\n",
       "1938246    98490     1246     4.5  24954  3.922377  0.863509    5.217641"
      ]
     },
     "execution_count": 119,
     "metadata": {},
     "output_type": "execute_result"
    }
   ],
   "source": [
    "data.head()"
   ]
  },
  {
   "cell_type": "code",
   "execution_count": 97,
   "metadata": {},
   "outputs": [],
   "source": [
    "features = pickle_read('mv_pkl.pkl')\n",
    "movie_meta = pd.DataFrame.from_records([s.convert_to_dict() for s in features])\n",
    "movie_full = data.merge(movie_meta, how='left', left_on='movieId', right_on='movielensId')"
   ]
  },
  {
   "cell_type": "code",
   "execution_count": 99,
   "metadata": {},
   "outputs": [],
   "source": [
    "movie_full['Adventure'] = (movie_full['tmdb_genre_1'] == 'Adventure') | (movie_full['tmdb_genre_2'] == 'Adventure') | (movie_full['tmdb_genre_3'] == 'Adventure')\n",
    "movie_full['Drama'] =     (movie_full['tmdb_genre_1'] == 'Drama') |     (movie_full['tmdb_genre_2'] == 'Drama') | (movie_full['tmdb_genre_3'] == 'Drama')\n",
    "movie_full['Comedy'] =    (movie_full['tmdb_genre_1'] == 'Comedy') |    (movie_full['tmdb_genre_2'] == 'Comedy') | (movie_full['tmdb_genre_3'] == 'Comedy')\n",
    "movie_full['Action'] =    (movie_full['tmdb_genre_1'] == 'Action') |    (movie_full['tmdb_genre_2'] == 'Action') | (movie_full['tmdb_genre_3'] == 'Action')\n",
    "movie_full['Animation'] = (movie_full['tmdb_genre_1'] == 'Animation') | (movie_full['tmdb_genre_2'] == 'Animation') | (movie_full['tmdb_genre_3'] == 'Animation')\n",
    "movie_full['Science Fiction'] = (movie_full['tmdb_genre_1'] == 'Science Fiction') | (movie_full['tmdb_genre_2'] == 'Science Fiction') | (movie_full['tmdb_genre_3'] == 'Science Fiction')\n",
    "movie_full['Fantasy'] =   (movie_full['tmdb_genre_1'] == 'Fantasy') |   (movie_full['tmdb_genre_2'] == 'Fantasy') | (movie_full['tmdb_genre_3'] == 'Fantasy')\n",
    "movie_full['Crime'] =     (movie_full['tmdb_genre_1'] == 'Crime') |     (movie_full['tmdb_genre_2'] == 'Crime') | (movie_full['tmdb_genre_3'] == 'Crime')\n",
    "movie_full['Mystery'] =   (movie_full['tmdb_genre_1'] == 'Mystery') |   (movie_full['tmdb_genre_2'] == 'Mystery') | (movie_full['tmdb_genre_3'] == 'Mystery')\n",
    "movie_full['Romance'] =   (movie_full['tmdb_genre_1'] == 'Romance') |   (movie_full['tmdb_genre_2'] == 'Romance') | (movie_full['tmdb_genre_3'] == 'Romance')\n",
    "movie_full['Horror'] =    (movie_full['tmdb_genre_1'] == 'Horror') |    (movie_full['tmdb_genre_2'] == 'Horror') | (movie_full['tmdb_genre_3'] == 'Horror')\n",
    "movie_full['Thriller'] =  (movie_full['tmdb_genre_1'] == 'Thriller') |  (movie_full['tmdb_genre_2'] == 'Thriller') | (movie_full['tmdb_genre_3'] == 'Thriller')\n",
    "movie_full['History'] =   (movie_full['tmdb_genre_1'] == 'History') |   (movie_full['tmdb_genre_2'] == 'History') | (movie_full['tmdb_genre_3'] == 'History')\n",
    "movie_full['Documentary'] = (movie_full['tmdb_genre_1'] == 'Documentary') | (movie_full['tmdb_genre_2'] == 'Documentary') | (movie_full['tmdb_genre_3'] == 'Documentary')\n",
    "movie_full['Music'] =     (movie_full['tmdb_genre_1'] == 'Music') |     (movie_full['tmdb_genre_2'] == 'Music') | (movie_full['tmdb_genre_3'] == 'Music')\n",
    "movie_full['War'] =       (movie_full['tmdb_genre_1'] == 'War') |       (movie_full['tmdb_genre_2'] == 'War') | (movie_full['tmdb_genre_3'] == 'War')\n",
    "movie_full['Family'] =    (movie_full['tmdb_genre_1'] == 'Family') |    (movie_full['tmdb_genre_2'] == 'Family') | (movie_full['tmdb_genre_3'] == 'Family')\n",
    "movie_full['Western'] =   (movie_full['tmdb_genre_1'] == 'Western') |   (movie_full['tmdb_genre_2'] == 'Western') | (movie_full['tmdb_genre_3'] == 'Western')\n",
    "movie_full['TV Movie'] =  (movie_full['tmdb_genre_1'] == 'TV Movie') |  (movie_full['tmdb_genre_2'] == 'TV Movie') | (movie_full['tmdb_genre_3'] == 'TV Movie')\n",
    "\n",
    "movie_full['mean'] = movie_full['mean']*2"
   ]
  },
  {
   "cell_type": "markdown",
   "metadata": {},
   "source": [
    "### LightFM recommender model application\n",
    "1. Instantiate Dataset()\n",
    "2. Fit dataset using userId, itemId, and features\n",
    "3. Build sparse matrix using build_interactions method. Note the syntax. It takes in an iterable of tuples.\n",
    "4. Train, test split if desired using random_train_test_split method on interactions matrix\n",
    "5. Instantiate model, fit, and then run model."
   ]
  },
  {
   "cell_type": "code",
   "execution_count": 102,
   "metadata": {},
   "outputs": [
    {
     "name": "stdout",
     "output_type": "stream",
     "text": [
      "Num users: 162448, num_items 17619.\n"
     ]
    }
   ],
   "source": [
    "# Step 1. Step 2\n",
    "dataset = Dataset()\n",
    "dataset.fit(movie_full['userId'], movie_full['movieId'], movie_full[['rating', 'mean', 'std', 'movielens_mean_rating',\n",
    "       'movielens_std_rating', 'budget', 'revenue', 'tmdb_vote_average', 'tmdb_vote_count',\n",
    "       'Adventure', 'Drama','Comedy', 'Action', 'Animation', 'Science Fiction', 'Fantasy', 'Crime',\n",
    "       'Mystery', 'Romance', 'Horror', 'Thriller', 'History', 'Documentary',\n",
    "       'Music', 'War', 'Family', 'Western', 'TV Movie']])\n",
    "num_users, num_items = dataset.interactions_shape()\n",
    "print('Num users: {}, num_items {}.'.format(num_users, num_items))"
   ]
  },
  {
   "cell_type": "code",
   "execution_count": 103,
   "metadata": {},
   "outputs": [
    {
     "name": "stdout",
     "output_type": "stream",
     "text": [
      "<162448x17619 sparse matrix of type '<class 'numpy.int32'>'\n",
      "\twith 5706522 stored elements in COOrdinate format>\n"
     ]
    }
   ],
   "source": [
    "# Step 3\n",
    "(interactions, weights) = dataset.build_interactions([tuple(i) for i in movie_full[['userId','movieId']].values])\n",
    "print(repr(interactions))"
   ]
  },
  {
   "cell_type": "code",
   "execution_count": 104,
   "metadata": {},
   "outputs": [],
   "source": [
    "# Step 4\n",
    "train, test = random_train_test_split(interactions) #, random_state=1)"
   ]
  },
  {
   "cell_type": "code",
   "execution_count": 122,
   "metadata": {},
   "outputs": [
    {
     "data": {
      "text/plain": [
       "<162448x17619 sparse matrix of type '<class 'numpy.float32'>'\n",
       "\twith 4565217 stored elements in COOrdinate format>"
      ]
     },
     "execution_count": 122,
     "metadata": {},
     "output_type": "execute_result"
    }
   ],
   "source": [
    "train"
   ]
  },
  {
   "cell_type": "code",
   "execution_count": 106,
   "metadata": {},
   "outputs": [
    {
     "name": "stdout",
     "output_type": "stream",
     "text": [
      "Precision: train 0.12, test 0.03. With features\n",
      "AUC: train 0.98, test 0.97. With features\n"
     ]
    }
   ],
   "source": [
    "#5\n",
    "model = LightFM(learning_rate=0.05, loss='warp')\n",
    "model.fit(train, epochs=10)\n",
    "\n",
    "f_train_precision = precision_at_k(model, train, k=10).mean()\n",
    "f_test_precision = precision_at_k(model, test, k=10).mean()\n",
    "\n",
    "f_train_auc = auc_score(model, train).mean()\n",
    "f_test_auc = auc_score(model, test).mean()\n",
    "\n",
    "print('Precision: train %.2f, test %.2f. With features' % (f_train_precision, f_test_precision))\n",
    "print('AUC: train %.2f, test %.2f. With features' % (f_train_auc, f_test_auc))"
   ]
  },
  {
   "cell_type": "code",
   "execution_count": 107,
   "metadata": {},
   "outputs": [],
   "source": [
    "pickle_model(model, 'lightfm-with-features.pkl')"
   ]
  },
  {
   "cell_type": "code",
   "execution_count": 127,
   "metadata": {},
   "outputs": [],
   "source": [
    "def sample_recommendation(model, data, user_ids):\n",
    "    n_users, n_items = data['train'].shape\n",
    "    for user_id in user_ids:\n",
    "        known_positives = data['item_labels'][data['train'].tocsr()[user_id].indices]\n",
    "\n",
    "        scores = model.predict(user_id, np.arange(n_items))\n",
    "        top_items = data['item_labels'][np.argsort(-scores)]\n",
    "\n",
    "        print(\"User %s\" % user_id)\n",
    "        print(\"     Known positives:\")\n",
    "\n",
    "        for x in known_positives[:3]:\n",
    "            print(\"        %s\" % x)\n",
    "\n",
    "        print(\"     Recommended:\")\n",
    "\n",
    "        for x in top_items[:3]:\n",
    "            print(\"        %s\" % x)"
   ]
  },
  {
   "cell_type": "code",
   "execution_count": 128,
   "metadata": {},
   "outputs": [
    {
     "ename": "TypeError",
     "evalue": "'coo_matrix' object is not subscriptable",
     "output_type": "error",
     "traceback": [
      "\u001b[0;31m---------------------------------------------------------------------------\u001b[0m",
      "\u001b[0;31mTypeError\u001b[0m                                 Traceback (most recent call last)",
      "\u001b[0;32m<ipython-input-128-ed74b1b790db>\u001b[0m in \u001b[0;36m<module>\u001b[0;34m\u001b[0m\n\u001b[0;32m----> 1\u001b[0;31m \u001b[0msample_recommendation\u001b[0m\u001b[0;34m(\u001b[0m\u001b[0mmodel\u001b[0m\u001b[0;34m,\u001b[0m \u001b[0mtest\u001b[0m\u001b[0;34m,\u001b[0m \u001b[0;34m[\u001b[0m\u001b[0;36m3\u001b[0m\u001b[0;34m,\u001b[0m \u001b[0;36m25\u001b[0m\u001b[0;34m,\u001b[0m \u001b[0;36m450\u001b[0m\u001b[0;34m]\u001b[0m\u001b[0;34m)\u001b[0m\u001b[0;34m\u001b[0m\u001b[0;34m\u001b[0m\u001b[0m\n\u001b[0m",
      "\u001b[0;32m<ipython-input-127-ca68bdba50b6>\u001b[0m in \u001b[0;36msample_recommendation\u001b[0;34m(model, data, user_ids)\u001b[0m\n\u001b[1;32m      1\u001b[0m \u001b[0;32mdef\u001b[0m \u001b[0msample_recommendation\u001b[0m\u001b[0;34m(\u001b[0m\u001b[0mmodel\u001b[0m\u001b[0;34m,\u001b[0m \u001b[0mdata\u001b[0m\u001b[0;34m,\u001b[0m \u001b[0muser_ids\u001b[0m\u001b[0;34m)\u001b[0m\u001b[0;34m:\u001b[0m\u001b[0;34m\u001b[0m\u001b[0;34m\u001b[0m\u001b[0m\n\u001b[0;32m----> 2\u001b[0;31m     \u001b[0mn_users\u001b[0m\u001b[0;34m,\u001b[0m \u001b[0mn_items\u001b[0m \u001b[0;34m=\u001b[0m \u001b[0mdata\u001b[0m\u001b[0;34m[\u001b[0m\u001b[0;34m'train'\u001b[0m\u001b[0;34m]\u001b[0m\u001b[0;34m.\u001b[0m\u001b[0mshape\u001b[0m\u001b[0;34m\u001b[0m\u001b[0;34m\u001b[0m\u001b[0m\n\u001b[0m\u001b[1;32m      3\u001b[0m     \u001b[0;32mfor\u001b[0m \u001b[0muser_id\u001b[0m \u001b[0;32min\u001b[0m \u001b[0muser_ids\u001b[0m\u001b[0;34m:\u001b[0m\u001b[0;34m\u001b[0m\u001b[0;34m\u001b[0m\u001b[0m\n\u001b[1;32m      4\u001b[0m         \u001b[0mknown_positives\u001b[0m \u001b[0;34m=\u001b[0m \u001b[0mdata\u001b[0m\u001b[0;34m[\u001b[0m\u001b[0;34m'item_labels'\u001b[0m\u001b[0;34m]\u001b[0m\u001b[0;34m[\u001b[0m\u001b[0mdata\u001b[0m\u001b[0;34m[\u001b[0m\u001b[0;34m'train'\u001b[0m\u001b[0;34m]\u001b[0m\u001b[0;34m.\u001b[0m\u001b[0mtocsr\u001b[0m\u001b[0;34m(\u001b[0m\u001b[0;34m)\u001b[0m\u001b[0;34m[\u001b[0m\u001b[0muser_id\u001b[0m\u001b[0;34m]\u001b[0m\u001b[0;34m.\u001b[0m\u001b[0mindices\u001b[0m\u001b[0;34m]\u001b[0m\u001b[0;34m\u001b[0m\u001b[0;34m\u001b[0m\u001b[0m\n\u001b[1;32m      5\u001b[0m \u001b[0;34m\u001b[0m\u001b[0m\n",
      "\u001b[0;31mTypeError\u001b[0m: 'coo_matrix' object is not subscriptable"
     ]
    }
   ],
   "source": [
    "sample_recommendation(model, test, [3, 25, 450])"
   ]
  },
  {
   "cell_type": "code",
   "execution_count": 126,
   "metadata": {},
   "outputs": [
    {
     "data": {
      "text/plain": [
       "array([-2.88501358])"
      ]
     },
     "execution_count": 126,
     "metadata": {},
     "output_type": "execute_result"
    }
   ],
   "source": [
    "model.predict('57338', ['1291'])"
   ]
  },
  {
   "cell_type": "markdown",
   "metadata": {},
   "source": [
    "### Repeat without features for comparison"
   ]
  },
  {
   "cell_type": "code",
   "execution_count": 113,
   "metadata": {},
   "outputs": [
    {
     "name": "stdout",
     "output_type": "stream",
     "text": [
      "Num users: 162448, num_items 17619.\n"
     ]
    }
   ],
   "source": [
    "# Step 1. Step 2\n",
    "dataset2 = Dataset()\n",
    "dataset2.fit(movie_full['userId'], movie_full['movieId'])\n",
    "num_users, num_items = dataset.interactions_shape()\n",
    "print('Num users: {}, num_items {}.'.format(num_users, num_items))"
   ]
  },
  {
   "cell_type": "code",
   "execution_count": 114,
   "metadata": {},
   "outputs": [
    {
     "name": "stdout",
     "output_type": "stream",
     "text": [
      "<162448x17619 sparse matrix of type '<class 'numpy.int32'>'\n",
      "\twith 5706522 stored elements in COOrdinate format>\n"
     ]
    }
   ],
   "source": [
    "# Step 3\n",
    "(interactions2, weights2) = dataset2.build_interactions([tuple(i) for i in movie_full[['userId','movieId']].values])\n",
    "print(repr(interactions))"
   ]
  },
  {
   "cell_type": "code",
   "execution_count": 116,
   "metadata": {},
   "outputs": [],
   "source": [
    "# Step 4\n",
    "train2, test2 = random_train_test_split(interactions2) #, random_state=1)"
   ]
  },
  {
   "cell_type": "code",
   "execution_count": 117,
   "metadata": {},
   "outputs": [
    {
     "name": "stdout",
     "output_type": "stream",
     "text": [
      "Precision: train 0.11, test 0.03.\n",
      "AUC: train 0.98, test 0.97.\n"
     ]
    }
   ],
   "source": [
    "#5--version without features\n",
    "model_none = LightFM(learning_rate=0.05, loss='warp')\n",
    "model_none.fit(train2, epochs=10)\n",
    "\n",
    "train_precision2 = precision_at_k(model_none, train2, k=10).mean()\n",
    "test_precision2 = precision_at_k(model_none, test2, k=10).mean()\n",
    "\n",
    "train_auc2 = auc_score(model_none, train2).mean()\n",
    "test_auc2 = auc_score(model_none, test2).mean()\n",
    "\n",
    "print('Precision: train %.2f, test %.2f.' % (train_precision2, test_precision2))\n",
    "print('AUC: train %.2f, test %.2f.' % (train_auc2, test_auc2))"
   ]
  },
  {
   "cell_type": "code",
   "execution_count": 118,
   "metadata": {},
   "outputs": [],
   "source": [
    "pickle_model(model, 'lightfm-no-features.pkl')"
   ]
  }
 ],
 "metadata": {
  "kernelspec": {
   "display_name": "Python 3",
   "language": "python",
   "name": "python3"
  },
  "language_info": {
   "codemirror_mode": {
    "name": "ipython",
    "version": 3
   },
   "file_extension": ".py",
   "mimetype": "text/x-python",
   "name": "python",
   "nbconvert_exporter": "python",
   "pygments_lexer": "ipython3",
   "version": "3.8.5"
  }
 },
 "nbformat": 4,
 "nbformat_minor": 4
}
