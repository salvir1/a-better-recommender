{
 "cells": [
  {
   "cell_type": "code",
   "execution_count": 130,
   "metadata": {},
   "outputs": [],
   "source": [
    "import re\n",
    "import numpy as np\n",
    "import pandas as pd\n",
    "import pickle\n",
    "import boto3\n",
    "from io import BytesIO"
   ]
  },
  {
   "cell_type": "code",
   "execution_count": 131,
   "metadata": {},
   "outputs": [],
   "source": [
    "from lightfm import LightFM\n",
    "from lightfm.data import Dataset\n",
    "\n",
    "from pyspark.sql.functions import *\n",
    "import pyspark as ps    # for the pyspark suite\n",
    "from pyspark.sql.types import StructType, StructField\n",
    "from pyspark.sql.types import IntegerType, StringType, FloatType, DateType, TimestampType\n",
    "import pyspark.sql.functions as F\n",
    "from pyspark.sql import SparkSession\n",
    "from pyspark.ml.recommendation import ALS\n",
    "from pyspark.sql import Row\n",
    "\n",
    "# spark = ps.sql.SparkSession.builder \\\n",
    "#             .master(\"local[4]\") \\\n",
    "#             .getOrCreate()\n",
    "\n",
    "spark = SparkSession.builder.getOrCreate()\n",
    "\n",
    "sc = spark.sparkContext  # for the pre-2.0 sparkContext\n",
    "\n",
    "#             .appName(\"df lecture\") \\\n"
   ]
  },
  {
   "cell_type": "code",
   "execution_count": 132,
   "metadata": {},
   "outputs": [
    {
     "name": "stdout",
     "output_type": "stream",
     "text": [
      "The autoreload extension is already loaded. To reload it, use:\n",
      "  %reload_ext autoreload\n"
     ]
    }
   ],
   "source": [
    "%load_ext autoreload\n",
    "%autoreload 2"
   ]
  },
  {
   "cell_type": "markdown",
   "metadata": {},
   "source": [
    "### Data preparation"
   ]
  },
  {
   "cell_type": "code",
   "execution_count": 133,
   "metadata": {},
   "outputs": [],
   "source": [
    "s3 = boto3.client('s3')\n",
    "# s3.list_buckets()"
   ]
  },
  {
   "cell_type": "code",
   "execution_count": 134,
   "metadata": {},
   "outputs": [],
   "source": [
    "def read_dataframe_from_s3(filename, bucket='galvrjsbucket'):\n",
    "    s3 = boto3.client('s3')\n",
    "    obj = s3.get_object(Bucket=bucket, Key=filename)\n",
    "    data = obj['Body'].read()\n",
    "    f = BytesIO(data)\n",
    "    df = pd.read_csv(f)\n",
    "    return df\n"
   ]
  },
  {
   "cell_type": "code",
   "execution_count": 135,
   "metadata": {},
   "outputs": [],
   "source": [
    "def pickle_write_to_s3(filename, bucket='galvrjsbucket'):\n",
    "    s3 = boto3.client('s3')\n",
    "    obj = s3.put_object(Bucket=bucket, Key=filename)"
   ]
  },
  {
   "cell_type": "code",
   "execution_count": 159,
   "metadata": {},
   "outputs": [],
   "source": [
    "prod_data = read_dataframe_from_s3('prod_data.csv')"
   ]
  },
  {
   "cell_type": "code",
   "execution_count": 160,
   "metadata": {},
   "outputs": [],
   "source": [
    "prod_data = prod_data.drop('Unnamed: 0', axis=1)"
   ]
  },
  {
   "cell_type": "code",
   "execution_count": 161,
   "metadata": {},
   "outputs": [],
   "source": [
    "# prod_data = pd.read_csv('data/train_ratings_df.csv')[['userId','movieId', 'rating']]\n",
    "# prod_data = prod_data.sample(frac = 0.264) # Same size dataset as that which models were trained on. 55 sec until prediction\n",
    "# prod_data = prod_data.sample(frac = 0.2) # 18 seconds until prediction"
   ]
  },
  {
   "cell_type": "code",
   "execution_count": 162,
   "metadata": {},
   "outputs": [
    {
     "data": {
      "text/html": [
       "<div>\n",
       "<style scoped>\n",
       "    .dataframe tbody tr th:only-of-type {\n",
       "        vertical-align: middle;\n",
       "    }\n",
       "\n",
       "    .dataframe tbody tr th {\n",
       "        vertical-align: top;\n",
       "    }\n",
       "\n",
       "    .dataframe thead th {\n",
       "        text-align: right;\n",
       "    }\n",
       "</style>\n",
       "<table border=\"1\" class=\"dataframe\">\n",
       "  <thead>\n",
       "    <tr style=\"text-align: right;\">\n",
       "      <th></th>\n",
       "      <th>userId</th>\n",
       "      <th>movieId</th>\n",
       "      <th>rating</th>\n",
       "    </tr>\n",
       "  </thead>\n",
       "  <tbody>\n",
       "    <tr>\n",
       "      <th>0</th>\n",
       "      <td>106234</td>\n",
       "      <td>1356</td>\n",
       "      <td>4.0</td>\n",
       "    </tr>\n",
       "    <tr>\n",
       "      <th>1</th>\n",
       "      <td>161277</td>\n",
       "      <td>920</td>\n",
       "      <td>5.0</td>\n",
       "    </tr>\n",
       "    <tr>\n",
       "      <th>2</th>\n",
       "      <td>65887</td>\n",
       "      <td>1370</td>\n",
       "      <td>2.0</td>\n",
       "    </tr>\n",
       "    <tr>\n",
       "      <th>3</th>\n",
       "      <td>75235</td>\n",
       "      <td>49530</td>\n",
       "      <td>4.0</td>\n",
       "    </tr>\n",
       "    <tr>\n",
       "      <th>4</th>\n",
       "      <td>127206</td>\n",
       "      <td>102445</td>\n",
       "      <td>3.0</td>\n",
       "    </tr>\n",
       "    <tr>\n",
       "      <th>...</th>\n",
       "      <td>...</td>\n",
       "      <td>...</td>\n",
       "      <td>...</td>\n",
       "    </tr>\n",
       "    <tr>\n",
       "      <th>380488</th>\n",
       "      <td>157621</td>\n",
       "      <td>1608</td>\n",
       "      <td>5.0</td>\n",
       "    </tr>\n",
       "    <tr>\n",
       "      <th>380489</th>\n",
       "      <td>128243</td>\n",
       "      <td>3448</td>\n",
       "      <td>4.0</td>\n",
       "    </tr>\n",
       "    <tr>\n",
       "      <th>380490</th>\n",
       "      <td>86927</td>\n",
       "      <td>1197</td>\n",
       "      <td>5.0</td>\n",
       "    </tr>\n",
       "    <tr>\n",
       "      <th>380491</th>\n",
       "      <td>86587</td>\n",
       "      <td>590</td>\n",
       "      <td>3.0</td>\n",
       "    </tr>\n",
       "    <tr>\n",
       "      <th>380492</th>\n",
       "      <td>140315</td>\n",
       "      <td>51662</td>\n",
       "      <td>3.0</td>\n",
       "    </tr>\n",
       "  </tbody>\n",
       "</table>\n",
       "<p>380493 rows × 3 columns</p>\n",
       "</div>"
      ],
      "text/plain": [
       "        userId  movieId  rating\n",
       "0       106234     1356     4.0\n",
       "1       161277      920     5.0\n",
       "2        65887     1370     2.0\n",
       "3        75235    49530     4.0\n",
       "4       127206   102445     3.0\n",
       "...        ...      ...     ...\n",
       "380488  157621     1608     5.0\n",
       "380489  128243     3448     4.0\n",
       "380490   86927     1197     5.0\n",
       "380491   86587      590     3.0\n",
       "380492  140315    51662     3.0\n",
       "\n",
       "[380493 rows x 3 columns]"
      ]
     },
     "execution_count": 162,
     "metadata": {},
     "output_type": "execute_result"
    }
   ],
   "source": [
    "prod_data"
   ]
  },
  {
   "cell_type": "code",
   "execution_count": 163,
   "metadata": {},
   "outputs": [],
   "source": [
    "rated_movies = {933: 4.5,\n",
    "                1035: 4,\n",
    "                922: 2,\n",
    "                342: 5,\n",
    "                2724: 1\n",
    "               }\n",
    "new_user_data = pd.DataFrame.from_dict(rated_movies, orient='index').reset_index()\n",
    "new_user_data = new_user_data.rename(columns={'index': \"movieId\", 0:\"rating\"})\n",
    "new_user_data['userId'] = 500000"
   ]
  },
  {
   "cell_type": "code",
   "execution_count": 164,
   "metadata": {},
   "outputs": [],
   "source": [
    "new_user_for_pred = prod_data.groupby('movieId').agg(count=('rating','count')).reset_index()\n",
    "new_user_for_pred['userId'] = 500000\n",
    "new_user_for_pred = new_user_for_pred.sample(frac = 0.5)\n",
    "\n",
    "prod_plus_new = prod_data.append(new_user_data)"
   ]
  },
  {
   "cell_type": "markdown",
   "metadata": {},
   "source": [
    "### ALS model and predictions"
   ]
  },
  {
   "cell_type": "code",
   "execution_count": 165,
   "metadata": {},
   "outputs": [],
   "source": [
    "prod_plus_new_spark = spark.createDataFrame(prod_plus_new)"
   ]
  },
  {
   "cell_type": "code",
   "execution_count": 166,
   "metadata": {},
   "outputs": [],
   "source": [
    "als = ALS(rank=20,\n",
    "          maxIter=20,\n",
    "          regParam=0.1,\n",
    "          alpha=2,\n",
    "          userCol=\"userId\",\n",
    "          itemCol=\"movieId\",\n",
    "          ratingCol=\"rating\")\n",
    "\n",
    "ALS_fit_model = als.fit(prod_plus_new_spark)"
   ]
  },
  {
   "cell_type": "code",
   "execution_count": 167,
   "metadata": {},
   "outputs": [
    {
     "name": "stdout",
     "output_type": "stream",
     "text": [
      "+-------+-----+------+\n",
      "|movieId|count|userId|\n",
      "+-------+-----+------+\n",
      "| 170787|    2|500000|\n",
      "|   1036|  655|500000|\n",
      "+-------+-----+------+\n",
      "only showing top 2 rows\n",
      "\n"
     ]
    }
   ],
   "source": [
    "new_user_full_spark = spark.createDataFrame(new_user_for_pred)\n",
    "new_user_full_spark.show(2)"
   ]
  },
  {
   "cell_type": "code",
   "execution_count": 168,
   "metadata": {},
   "outputs": [],
   "source": [
    "als_predictions = ALS_fit_model.transform(new_user_full_spark)"
   ]
  },
  {
   "cell_type": "code",
   "execution_count": 169,
   "metadata": {},
   "outputs": [],
   "source": [
    "als_predictions = als_predictions.orderBy('prediction', ascending=False).take(24)"
   ]
  },
  {
   "cell_type": "code",
   "execution_count": 170,
   "metadata": {},
   "outputs": [
    {
     "data": {
      "text/plain": [
       "[Row(movieId=54193, count=2, userId=500000, prediction=4.643538951873779),\n",
       " Row(movieId=31705, count=1, userId=500000, prediction=4.630481243133545),\n",
       " Row(movieId=60943, count=3, userId=500000, prediction=4.487199783325195),\n",
       " Row(movieId=1809, count=21, userId=500000, prediction=4.416341781616211),\n",
       " Row(movieId=4927, count=5, userId=500000, prediction=4.316404342651367),\n",
       " Row(movieId=2594, count=52, userId=500000, prediction=4.306849956512451),\n",
       " Row(movieId=1189, count=48, userId=500000, prediction=4.303802013397217),\n",
       " Row(movieId=119966, count=1, userId=500000, prediction=4.300716400146484),\n",
       " Row(movieId=1695, count=1, userId=500000, prediction=4.271899700164795),\n",
       " Row(movieId=356, count=1270, userId=500000, prediction=4.258736610412598),\n",
       " Row(movieId=2131, count=9, userId=500000, prediction=4.241642951965332),\n",
       " Row(movieId=102194, count=40, userId=500000, prediction=4.236963748931885),\n",
       " Row(movieId=82667, count=17, userId=500000, prediction=4.224095344543457),\n",
       " Row(movieId=105477, count=2, userId=500000, prediction=4.213264465332031),\n",
       " Row(movieId=27255, count=1, userId=500000, prediction=4.197939395904541),\n",
       " Row(movieId=6898, count=5, userId=500000, prediction=4.1863226890563965),\n",
       " Row(movieId=6183, count=13, userId=500000, prediction=4.186075687408447),\n",
       " Row(movieId=58706, count=2, userId=500000, prediction=4.181642532348633),\n",
       " Row(movieId=31364, count=29, userId=500000, prediction=4.166820049285889),\n",
       " Row(movieId=158972, count=8, userId=500000, prediction=4.164966106414795),\n",
       " Row(movieId=1254, count=101, userId=500000, prediction=4.161444664001465),\n",
       " Row(movieId=26208, count=4, userId=500000, prediction=4.134829521179199),\n",
       " Row(movieId=4880, count=40, userId=500000, prediction=4.1278886795043945),\n",
       " Row(movieId=157373, count=4, userId=500000, prediction=4.124902725219727)]"
      ]
     },
     "execution_count": 170,
     "metadata": {},
     "output_type": "execute_result"
    }
   ],
   "source": [
    "als_predictions"
   ]
  },
  {
   "cell_type": "markdown",
   "metadata": {},
   "source": [
    "### LightFM model and predictions"
   ]
  },
  {
   "cell_type": "code",
   "execution_count": 171,
   "metadata": {},
   "outputs": [],
   "source": [
    "dataset2 = Dataset()\n",
    "dataset2.fit(prod_plus_new['userId'], prod_plus_new['movieId'])\n",
    "(interactions2, weights2) = dataset2.build_interactions([tuple(i) for i in prod_plus_new[['userId','movieId']].values])"
   ]
  },
  {
   "cell_type": "code",
   "execution_count": 172,
   "metadata": {},
   "outputs": [
    {
     "data": {
      "text/plain": [
       "<lightfm.lightfm.LightFM at 0x7f58e19c5940>"
      ]
     },
     "execution_count": 172,
     "metadata": {},
     "output_type": "execute_result"
    }
   ],
   "source": [
    "model = LightFM(learning_rate=0.027, no_components=23, loss='warp')\n",
    "model.fit(interactions2, user_features=None, epochs=56)"
   ]
  },
  {
   "cell_type": "code",
   "execution_count": 173,
   "metadata": {},
   "outputs": [
    {
     "data": {
      "text/plain": [
       "5422"
      ]
     },
     "execution_count": 173,
     "metadata": {},
     "output_type": "execute_result"
    }
   ],
   "source": [
    "n_items = len(new_user_for_pred)\n",
    "n_items"
   ]
  },
  {
   "cell_type": "code",
   "execution_count": 174,
   "metadata": {},
   "outputs": [],
   "source": [
    "prediction = model.predict(user_ids = dataset2.mapping()[0][new_user_for_pred['userId'].iloc[0]], item_ids =np.arange(len(new_user_for_pred)), item_features=None, user_features=None)"
   ]
  },
  {
   "cell_type": "code",
   "execution_count": 175,
   "metadata": {},
   "outputs": [
    {
     "data": {
      "text/plain": [
       "array([ 0.14952183, -0.544936  , -0.8986882 , ..., -0.49516761,\n",
       "       -1.58757365, -2.13752365])"
      ]
     },
     "execution_count": 175,
     "metadata": {},
     "output_type": "execute_result"
    }
   ],
   "source": [
    "prediction"
   ]
  },
  {
   "cell_type": "code",
   "execution_count": 176,
   "metadata": {},
   "outputs": [],
   "source": [
    "lfm_movies = pd.DataFrame.from_dict(dataset2.mapping()[0], orient='index').reset_index()\n",
    "lfm_movies  = lfm_movies.rename(columns={'index': \"movieId\", 0:\"to_drop\"})\n",
    "lfm_movies = lfm_movies.drop('to_drop', axis=1).iloc[:len(prediction)]"
   ]
  },
  {
   "cell_type": "code",
   "execution_count": 177,
   "metadata": {},
   "outputs": [],
   "source": [
    "lfm_movies['prediction'] = prediction"
   ]
  },
  {
   "cell_type": "code",
   "execution_count": 178,
   "metadata": {},
   "outputs": [
    {
     "data": {
      "text/html": [
       "<div>\n",
       "<style scoped>\n",
       "    .dataframe tbody tr th:only-of-type {\n",
       "        vertical-align: middle;\n",
       "    }\n",
       "\n",
       "    .dataframe tbody tr th {\n",
       "        vertical-align: top;\n",
       "    }\n",
       "\n",
       "    .dataframe thead th {\n",
       "        text-align: right;\n",
       "    }\n",
       "</style>\n",
       "<table border=\"1\" class=\"dataframe\">\n",
       "  <thead>\n",
       "    <tr style=\"text-align: right;\">\n",
       "      <th></th>\n",
       "      <th>movieId</th>\n",
       "      <th>prediction</th>\n",
       "    </tr>\n",
       "  </thead>\n",
       "  <tbody>\n",
       "    <tr>\n",
       "      <th>383</th>\n",
       "      <td>72222</td>\n",
       "      <td>2.276495</td>\n",
       "    </tr>\n",
       "    <tr>\n",
       "      <th>480</th>\n",
       "      <td>145603</td>\n",
       "      <td>2.232405</td>\n",
       "    </tr>\n",
       "    <tr>\n",
       "      <th>201</th>\n",
       "      <td>33839</td>\n",
       "      <td>2.104612</td>\n",
       "    </tr>\n",
       "    <tr>\n",
       "      <th>124</th>\n",
       "      <td>20835</td>\n",
       "      <td>2.089013</td>\n",
       "    </tr>\n",
       "    <tr>\n",
       "      <th>138</th>\n",
       "      <td>123747</td>\n",
       "      <td>2.055774</td>\n",
       "    </tr>\n",
       "    <tr>\n",
       "      <th>1053</th>\n",
       "      <td>33500</td>\n",
       "      <td>2.038290</td>\n",
       "    </tr>\n",
       "    <tr>\n",
       "      <th>239</th>\n",
       "      <td>71186</td>\n",
       "      <td>1.993008</td>\n",
       "    </tr>\n",
       "    <tr>\n",
       "      <th>630</th>\n",
       "      <td>125762</td>\n",
       "      <td>1.990573</td>\n",
       "    </tr>\n",
       "    <tr>\n",
       "      <th>546</th>\n",
       "      <td>46695</td>\n",
       "      <td>1.910234</td>\n",
       "    </tr>\n",
       "    <tr>\n",
       "      <th>537</th>\n",
       "      <td>70616</td>\n",
       "      <td>1.834759</td>\n",
       "    </tr>\n",
       "  </tbody>\n",
       "</table>\n",
       "</div>"
      ],
      "text/plain": [
       "      movieId  prediction\n",
       "383     72222    2.276495\n",
       "480    145603    2.232405\n",
       "201     33839    2.104612\n",
       "124     20835    2.089013\n",
       "138    123747    2.055774\n",
       "1053    33500    2.038290\n",
       "239     71186    1.993008\n",
       "630    125762    1.990573\n",
       "546     46695    1.910234\n",
       "537     70616    1.834759"
      ]
     },
     "execution_count": 178,
     "metadata": {},
     "output_type": "execute_result"
    }
   ],
   "source": [
    "lfm_movies.sort_values('prediction', ascending=False).head(10)"
   ]
  }
 ],
 "metadata": {
  "kernelspec": {
   "display_name": "Python 3",
   "language": "python",
   "name": "python3"
  },
  "language_info": {
   "codemirror_mode": {
    "name": "ipython",
    "version": 3
   },
   "file_extension": ".py",
   "mimetype": "text/x-python",
   "name": "python",
   "nbconvert_exporter": "python",
   "pygments_lexer": "ipython3",
   "version": "3.8.5"
  }
 },
 "nbformat": 4,
 "nbformat_minor": 4
}
