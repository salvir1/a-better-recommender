{
 "cells": [
  {
   "cell_type": "code",
   "execution_count": 96,
   "metadata": {},
   "outputs": [],
   "source": [
    "import re\n",
    "import numpy as np\n",
    "import pandas as pd\n",
    "import pickle\n",
    "import boto3\n",
    "from io import BytesIO"
   ]
  },
  {
   "cell_type": "code",
   "execution_count": 97,
   "metadata": {},
   "outputs": [],
   "source": [
    "from lightfm import LightFM\n",
    "from lightfm.data import Dataset\n",
    "\n",
    "from pyspark.sql.functions import *\n",
    "import pyspark as ps    # for the pyspark suite\n",
    "from pyspark.sql.types import StructType, StructField\n",
    "from pyspark.sql.types import IntegerType, StringType, FloatType, DateType, TimestampType\n",
    "import pyspark.sql.functions as F\n",
    "from pyspark.sql import SparkSession\n",
    "from pyspark.ml.recommendation import ALS\n",
    "from pyspark.sql import Row\n",
    "\n",
    "\n",
    "spark = SparkSession.builder.getOrCreate()\n",
    "\n",
    "sc = spark.sparkContext  # for the pre-2.0 sparkContext"
   ]
  },
  {
   "cell_type": "code",
   "execution_count": 98,
   "metadata": {},
   "outputs": [
    {
     "name": "stdout",
     "output_type": "stream",
     "text": [
      "The autoreload extension is already loaded. To reload it, use:\n",
      "  %reload_ext autoreload\n"
     ]
    }
   ],
   "source": [
    "%load_ext autoreload\n",
    "%autoreload 2"
   ]
  },
  {
   "cell_type": "markdown",
   "metadata": {},
   "source": [
    "### Data preparation"
   ]
  },
  {
   "cell_type": "code",
   "execution_count": 99,
   "metadata": {},
   "outputs": [],
   "source": [
    "s3 = boto3.client('s3')\n",
    "# s3.list_buckets()"
   ]
  },
  {
   "cell_type": "code",
   "execution_count": 100,
   "metadata": {},
   "outputs": [],
   "source": [
    "def read_s3_csv_to_df(filename, bucket='galvrjsbucket'):\n",
    "    s3 = boto3.client('s3')\n",
    "    obj = s3.get_object(Bucket=bucket, Key=filename)\n",
    "    data = obj['Body'].read()\n",
    "    f = BytesIO(data)\n",
    "    df = pd.read_csv(f)\n",
    "    return df\n"
   ]
  },
  {
   "cell_type": "code",
   "execution_count": 101,
   "metadata": {},
   "outputs": [],
   "source": [
    "def pickle_write_to_s3(filename, bucket='galvrjsbucket'):\n",
    "    s3 = boto3.client('s3')\n",
    "    obj = s3.put_object(Bucket=bucket, Key=filename)"
   ]
  },
  {
   "cell_type": "code",
   "execution_count": 102,
   "metadata": {},
   "outputs": [],
   "source": [
    "prod_data = read_s3_csv_to_df('prod_data.csv')"
   ]
  },
  {
   "cell_type": "code",
   "execution_count": 103,
   "metadata": {},
   "outputs": [],
   "source": [
    "prod_data = prod_data.drop('Unnamed: 0', axis=1)"
   ]
  },
  {
   "cell_type": "code",
   "execution_count": 104,
   "metadata": {},
   "outputs": [],
   "source": [
    "# prod_data = pd.read_csv('data/train_ratings_df.csv')[['userId','movieId', 'rating']]\n",
    "# prod_data = prod_data.sample(frac = 0.264) # Same size dataset as that which models were trained on. 55 sec until prediction\n",
    "# prod_data = prod_data.sample(frac = 0.2) # 18 seconds until prediction"
   ]
  },
  {
   "cell_type": "code",
   "execution_count": 105,
   "metadata": {},
   "outputs": [
    {
     "data": {
      "text/html": [
       "<div>\n",
       "<style scoped>\n",
       "    .dataframe tbody tr th:only-of-type {\n",
       "        vertical-align: middle;\n",
       "    }\n",
       "\n",
       "    .dataframe tbody tr th {\n",
       "        vertical-align: top;\n",
       "    }\n",
       "\n",
       "    .dataframe thead th {\n",
       "        text-align: right;\n",
       "    }\n",
       "</style>\n",
       "<table border=\"1\" class=\"dataframe\">\n",
       "  <thead>\n",
       "    <tr style=\"text-align: right;\">\n",
       "      <th></th>\n",
       "      <th>userId</th>\n",
       "      <th>movieId</th>\n",
       "      <th>rating</th>\n",
       "    </tr>\n",
       "  </thead>\n",
       "  <tbody>\n",
       "    <tr>\n",
       "      <th>0</th>\n",
       "      <td>106234</td>\n",
       "      <td>1356</td>\n",
       "      <td>4.0</td>\n",
       "    </tr>\n",
       "    <tr>\n",
       "      <th>1</th>\n",
       "      <td>161277</td>\n",
       "      <td>920</td>\n",
       "      <td>5.0</td>\n",
       "    </tr>\n",
       "    <tr>\n",
       "      <th>2</th>\n",
       "      <td>65887</td>\n",
       "      <td>1370</td>\n",
       "      <td>2.0</td>\n",
       "    </tr>\n",
       "    <tr>\n",
       "      <th>3</th>\n",
       "      <td>75235</td>\n",
       "      <td>49530</td>\n",
       "      <td>4.0</td>\n",
       "    </tr>\n",
       "    <tr>\n",
       "      <th>4</th>\n",
       "      <td>127206</td>\n",
       "      <td>102445</td>\n",
       "      <td>3.0</td>\n",
       "    </tr>\n",
       "    <tr>\n",
       "      <th>...</th>\n",
       "      <td>...</td>\n",
       "      <td>...</td>\n",
       "      <td>...</td>\n",
       "    </tr>\n",
       "    <tr>\n",
       "      <th>380488</th>\n",
       "      <td>157621</td>\n",
       "      <td>1608</td>\n",
       "      <td>5.0</td>\n",
       "    </tr>\n",
       "    <tr>\n",
       "      <th>380489</th>\n",
       "      <td>128243</td>\n",
       "      <td>3448</td>\n",
       "      <td>4.0</td>\n",
       "    </tr>\n",
       "    <tr>\n",
       "      <th>380490</th>\n",
       "      <td>86927</td>\n",
       "      <td>1197</td>\n",
       "      <td>5.0</td>\n",
       "    </tr>\n",
       "    <tr>\n",
       "      <th>380491</th>\n",
       "      <td>86587</td>\n",
       "      <td>590</td>\n",
       "      <td>3.0</td>\n",
       "    </tr>\n",
       "    <tr>\n",
       "      <th>380492</th>\n",
       "      <td>140315</td>\n",
       "      <td>51662</td>\n",
       "      <td>3.0</td>\n",
       "    </tr>\n",
       "  </tbody>\n",
       "</table>\n",
       "<p>380493 rows × 3 columns</p>\n",
       "</div>"
      ],
      "text/plain": [
       "        userId  movieId  rating\n",
       "0       106234     1356     4.0\n",
       "1       161277      920     5.0\n",
       "2        65887     1370     2.0\n",
       "3        75235    49530     4.0\n",
       "4       127206   102445     3.0\n",
       "...        ...      ...     ...\n",
       "380488  157621     1608     5.0\n",
       "380489  128243     3448     4.0\n",
       "380490   86927     1197     5.0\n",
       "380491   86587      590     3.0\n",
       "380492  140315    51662     3.0\n",
       "\n",
       "[380493 rows x 3 columns]"
      ]
     },
     "execution_count": 105,
     "metadata": {},
     "output_type": "execute_result"
    }
   ],
   "source": [
    "prod_data"
   ]
  },
  {
   "cell_type": "code",
   "execution_count": 106,
   "metadata": {},
   "outputs": [],
   "source": [
    "rated_movies = {933: 4.5,\n",
    "                1035: 4,\n",
    "                922: 2,\n",
    "                342: 5,\n",
    "                2724: 1\n",
    "               }\n",
    "new_user_data = pd.DataFrame.from_dict(rated_movies, orient='index').reset_index()\n",
    "new_user_data = new_user_data.rename(columns={'index': \"movieId\", 0:\"rating\"})\n",
    "new_user_data['userId'] = 500000"
   ]
  },
  {
   "cell_type": "code",
   "execution_count": 107,
   "metadata": {},
   "outputs": [],
   "source": [
    "new_user_for_pred = prod_data.groupby('movieId').agg(count=('rating','count')).reset_index()\n",
    "new_user_for_pred['userId'] = 500000\n",
    "new_user_for_pred = new_user_for_pred.sample(frac = 0.5)\n",
    "\n",
    "prod_plus_new = prod_data.append(new_user_data)"
   ]
  },
  {
   "cell_type": "markdown",
   "metadata": {},
   "source": [
    "### ALS model and predictions"
   ]
  },
  {
   "cell_type": "code",
   "execution_count": 108,
   "metadata": {},
   "outputs": [],
   "source": [
    "prod_plus_new_spark = spark.createDataFrame(prod_plus_new)"
   ]
  },
  {
   "cell_type": "code",
   "execution_count": 109,
   "metadata": {},
   "outputs": [],
   "source": [
    "als = ALS(rank=20,\n",
    "          maxIter=20,\n",
    "          regParam=0.1,\n",
    "          alpha=2,\n",
    "          userCol=\"userId\",\n",
    "          itemCol=\"movieId\",\n",
    "          ratingCol=\"rating\")\n",
    "\n",
    "ALS_fit_model = als.fit(prod_plus_new_spark)"
   ]
  },
  {
   "cell_type": "code",
   "execution_count": 110,
   "metadata": {},
   "outputs": [
    {
     "name": "stdout",
     "output_type": "stream",
     "text": [
      "+-------+-----+------+\n",
      "|movieId|count|userId|\n",
      "+-------+-----+------+\n",
      "|   4225|   42|500000|\n",
      "|  89904|   46|500000|\n",
      "+-------+-----+------+\n",
      "only showing top 2 rows\n",
      "\n"
     ]
    }
   ],
   "source": [
    "new_user_full_spark = spark.createDataFrame(new_user_for_pred)\n",
    "new_user_full_spark.show(2)"
   ]
  },
  {
   "cell_type": "code",
   "execution_count": 111,
   "metadata": {},
   "outputs": [],
   "source": [
    "als_predictions = ALS_fit_model.transform(new_user_full_spark)"
   ]
  },
  {
   "cell_type": "code",
   "execution_count": 112,
   "metadata": {},
   "outputs": [],
   "source": [
    "als_predictions2 = als_predictions.orderBy('prediction', ascending=False).select('movieId').take(50)"
   ]
  },
  {
   "cell_type": "code",
   "execution_count": 113,
   "metadata": {},
   "outputs": [],
   "source": [
    "als_predictions2 = [als_predictions2[i].movieId for i in range(len(als_predictions2))]"
   ]
  },
  {
   "cell_type": "code",
   "execution_count": 114,
   "metadata": {},
   "outputs": [
    {
     "data": {
      "text/plain": [
       "[4768,\n",
       " 3808,\n",
       " 26147,\n",
       " 858,\n",
       " 3260,\n",
       " 67957,\n",
       " 7234,\n",
       " 342,\n",
       " 50066,\n",
       " 1966,\n",
       " 1949,\n",
       " 664,\n",
       " 67999,\n",
       " 4769,\n",
       " 1265,\n",
       " 5319,\n",
       " 726,\n",
       " 84242,\n",
       " 3467,\n",
       " 2764,\n",
       " 933,\n",
       " 1207,\n",
       " 1270,\n",
       " 6918,\n",
       " 60487,\n",
       " 73,\n",
       " 598,\n",
       " 7486,\n",
       " 1199,\n",
       " 1397,\n",
       " 5177,\n",
       " 4381,\n",
       " 2730,\n",
       " 5230,\n",
       " 33779,\n",
       " 262,\n",
       " 3147,\n",
       " 104908,\n",
       " 170959,\n",
       " 1963,\n",
       " 170777,\n",
       " 4470,\n",
       " 108977,\n",
       " 131724,\n",
       " 108981,\n",
       " 1298,\n",
       " 7158,\n",
       " 187717,\n",
       " 30856,\n",
       " 26425]"
      ]
     },
     "execution_count": 114,
     "metadata": {},
     "output_type": "execute_result"
    }
   ],
   "source": [
    "als_predictions2"
   ]
  },
  {
   "cell_type": "markdown",
   "metadata": {},
   "source": [
    "### LightFM model and predictions"
   ]
  },
  {
   "cell_type": "code",
   "execution_count": 115,
   "metadata": {},
   "outputs": [],
   "source": [
    "dataset2 = Dataset()\n",
    "dataset2.fit(prod_plus_new['userId'], prod_plus_new['movieId'])\n",
    "(interactions2, weights2) = dataset2.build_interactions([tuple(i) for i in prod_plus_new[['userId','movieId']].values])"
   ]
  },
  {
   "cell_type": "code",
   "execution_count": 116,
   "metadata": {},
   "outputs": [
    {
     "data": {
      "text/plain": [
       "<lightfm.lightfm.LightFM at 0x7f18d48b9b80>"
      ]
     },
     "execution_count": 116,
     "metadata": {},
     "output_type": "execute_result"
    }
   ],
   "source": [
    "model = LightFM(learning_rate=0.027, no_components=23, loss='warp')\n",
    "model.fit(interactions2, user_features=None, epochs=56)"
   ]
  },
  {
   "cell_type": "code",
   "execution_count": 117,
   "metadata": {},
   "outputs": [],
   "source": [
    "prediction = model.predict(user_ids = dataset2.mapping()[0][new_user_for_pred['userId'].iloc[0]], item_ids =np.arange(len(new_user_for_pred)), item_features=None, user_features=None)"
   ]
  },
  {
   "cell_type": "code",
   "execution_count": 118,
   "metadata": {},
   "outputs": [
    {
     "data": {
      "text/plain": [
       "array([ 0.35609326,  0.97828329,  1.5400387 , ..., -0.63569278,\n",
       "       -1.55680573, -1.89555526])"
      ]
     },
     "execution_count": 118,
     "metadata": {},
     "output_type": "execute_result"
    }
   ],
   "source": [
    "prediction"
   ]
  },
  {
   "cell_type": "code",
   "execution_count": 119,
   "metadata": {},
   "outputs": [],
   "source": [
    "lfm_movies = pd.DataFrame.from_dict(dataset2.mapping()[0], orient='index').reset_index()\n",
    "lfm_movies  = lfm_movies.rename(columns={'index': \"movieId\", 0:\"to_drop\"})\n",
    "lfm_movies = lfm_movies.drop('to_drop', axis=1).iloc[:len(prediction)]"
   ]
  },
  {
   "cell_type": "code",
   "execution_count": 120,
   "metadata": {},
   "outputs": [],
   "source": [
    "lfm_movies['prediction'] = prediction"
   ]
  },
  {
   "cell_type": "code",
   "execution_count": 121,
   "metadata": {},
   "outputs": [],
   "source": [
    "lfm_movies = lfm_movies.sort_values('prediction', ascending=False)"
   ]
  },
  {
   "cell_type": "code",
   "execution_count": 122,
   "metadata": {},
   "outputs": [
    {
     "data": {
      "text/html": [
       "<div>\n",
       "<style scoped>\n",
       "    .dataframe tbody tr th:only-of-type {\n",
       "        vertical-align: middle;\n",
       "    }\n",
       "\n",
       "    .dataframe tbody tr th {\n",
       "        vertical-align: top;\n",
       "    }\n",
       "\n",
       "    .dataframe thead th {\n",
       "        text-align: right;\n",
       "    }\n",
       "</style>\n",
       "<table border=\"1\" class=\"dataframe\">\n",
       "  <thead>\n",
       "    <tr style=\"text-align: right;\">\n",
       "      <th></th>\n",
       "      <th>movieId</th>\n",
       "      <th>prediction</th>\n",
       "    </tr>\n",
       "  </thead>\n",
       "  <tbody>\n",
       "    <tr>\n",
       "      <th>412</th>\n",
       "      <td>40208</td>\n",
       "      <td>2.548931</td>\n",
       "    </tr>\n",
       "    <tr>\n",
       "      <th>495</th>\n",
       "      <td>33114</td>\n",
       "      <td>2.398996</td>\n",
       "    </tr>\n",
       "    <tr>\n",
       "      <th>702</th>\n",
       "      <td>143725</td>\n",
       "      <td>2.376488</td>\n",
       "    </tr>\n",
       "    <tr>\n",
       "      <th>154</th>\n",
       "      <td>31278</td>\n",
       "      <td>2.346927</td>\n",
       "    </tr>\n",
       "    <tr>\n",
       "      <th>74</th>\n",
       "      <td>80063</td>\n",
       "      <td>2.110063</td>\n",
       "    </tr>\n",
       "    <tr>\n",
       "      <th>...</th>\n",
       "      <td>...</td>\n",
       "      <td>...</td>\n",
       "    </tr>\n",
       "    <tr>\n",
       "      <th>3863</th>\n",
       "      <td>96992</td>\n",
       "      <td>-2.760962</td>\n",
       "    </tr>\n",
       "    <tr>\n",
       "      <th>2697</th>\n",
       "      <td>160743</td>\n",
       "      <td>-2.769882</td>\n",
       "    </tr>\n",
       "    <tr>\n",
       "      <th>2583</th>\n",
       "      <td>146762</td>\n",
       "      <td>-2.783595</td>\n",
       "    </tr>\n",
       "    <tr>\n",
       "      <th>3851</th>\n",
       "      <td>130459</td>\n",
       "      <td>-2.915465</td>\n",
       "    </tr>\n",
       "    <tr>\n",
       "      <th>1727</th>\n",
       "      <td>41796</td>\n",
       "      <td>-2.943794</td>\n",
       "    </tr>\n",
       "  </tbody>\n",
       "</table>\n",
       "<p>5422 rows × 2 columns</p>\n",
       "</div>"
      ],
      "text/plain": [
       "      movieId  prediction\n",
       "412     40208    2.548931\n",
       "495     33114    2.398996\n",
       "702    143725    2.376488\n",
       "154     31278    2.346927\n",
       "74      80063    2.110063\n",
       "...       ...         ...\n",
       "3863    96992   -2.760962\n",
       "2697   160743   -2.769882\n",
       "2583   146762   -2.783595\n",
       "3851   130459   -2.915465\n",
       "1727    41796   -2.943794\n",
       "\n",
       "[5422 rows x 2 columns]"
      ]
     },
     "execution_count": 122,
     "metadata": {},
     "output_type": "execute_result"
    }
   ],
   "source": [
    "lfm_movies"
   ]
  },
  {
   "cell_type": "code",
   "execution_count": null,
   "metadata": {},
   "outputs": [],
   "source": []
  }
 ],
 "metadata": {
  "kernelspec": {
   "display_name": "Python 3",
   "language": "python",
   "name": "python3"
  },
  "language_info": {
   "codemirror_mode": {
    "name": "ipython",
    "version": 3
   },
   "file_extension": ".py",
   "mimetype": "text/x-python",
   "name": "python",
   "nbconvert_exporter": "python",
   "pygments_lexer": "ipython3",
   "version": "3.8.3"
  }
 },
 "nbformat": 4,
 "nbformat_minor": 4
}
