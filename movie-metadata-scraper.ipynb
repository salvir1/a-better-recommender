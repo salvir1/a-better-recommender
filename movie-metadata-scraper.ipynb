{
 "cells": [
  {
   "cell_type": "code",
   "execution_count": 1,
   "metadata": {},
   "outputs": [],
   "source": [
    "import requests\n",
    "from bs4 import BeautifulSoup\n",
    "from bs4.element import Tag\n",
    "from lxml import html\n",
    "import json\n",
    "import pandas as pd\n",
    "import re\n",
    "from src.movie_class import *"
   ]
  },
  {
   "cell_type": "code",
   "execution_count": 2,
   "metadata": {},
   "outputs": [],
   "source": [
    "%load_ext autoreload\n",
    "%autoreload 2"
   ]
  },
  {
   "cell_type": "code",
   "execution_count": 3,
   "metadata": {
    "jupyter": {
     "source_hidden": true
    }
   },
   "outputs": [],
   "source": [
    "# class Movie:\n",
    "#     '''class that stores data for a movie'''\n",
    "#     def __init__(\n",
    "#         self,\n",
    "#         title: str = '',\n",
    "#         poster_path: str = '',\n",
    "#         movielensId: str = '',\n",
    "#         movielens_mean_rating: float = None,\n",
    "#         movielens_std_rating: float = None,\n",
    "#         movielens_pct_5s: float = None,\n",
    "#         tmdbId: str = '',\n",
    "#         imdbId: str = '',\n",
    "#         budget: int = None,\n",
    "#         revenue: int = None,\n",
    "#         tmdb_popularity: float = None,\n",
    "#         tmdb_vote_average: float = None,\n",
    "#         tmdb_vote_count: int = None,\n",
    "#         release_date: str = '',\n",
    "#         tmdb_overview: str = '',\n",
    "#         tmdb_original_ln: str = '',\n",
    "#         cast: list = [],\n",
    "#         tmdb_genre_1: str = '',\n",
    "#         tmdb_genre_2: str = '',\n",
    "#         tmdb_genre_3: str = '',\n",
    "#         tmdb_recommendations: list = []\n",
    "#     ):\n",
    "        \n",
    "#         self.title = title,\n",
    "#         self.poster_path = poster_path,\n",
    "#         self.movielensId = movielensId,\n",
    "#         self.movielens_mean_rating = movielens_mean_rating,\n",
    "#         self.movielens_std_rating = movielens_std_rating,\n",
    "#         self.movielens_pct_5s = movielens_pct_5s,\n",
    "#         self.tmdbId = tmdbId,\n",
    "#         self.imdbId = imdbId,\n",
    "#         self.budget = budget,\n",
    "#         self.revenue = revenue,\n",
    "#         self.tmdb_popularity = tmdb_popularity,\n",
    "#         self.tmdb_vote_average = tmdb_vote_average,\n",
    "#         self.tmdb_vote_count = tmdb_vote_count,\n",
    "#         self.release_date = release_date,\n",
    "#         self.tmdb_overview = tmdb_overview,\n",
    "#         self.tmdb_original_ln = tmdb_original_ln,\n",
    "#         self.cast = cast,\n",
    "#         self.tmdb_genre_1 = tmdb_genre_1,\n",
    "#         self.tmdb_genre_2 = tmdb_genre_2,\n",
    "#         self.tmdb_genre_3 = tmdb_genre_3,\n",
    "#         self.tmdb_recommendations = tmdb_recommendations\n",
    "\n",
    "#     def load_tmdb_movie(self, movielensId, movie_id):\n",
    "#         mv_url = f'https://api.themoviedb.org/3/movie/{movie_id}?api_key={api_key}&language=en-US'\n",
    "#         r_mv = requests.get(mv_url, allow_redirects=False)\n",
    "#         try:\n",
    "#             if r_mv.status_code == 200:\n",
    "#                 pass\n",
    "#             else:\n",
    "#                 print(f\"Fail {r_mv.status_code}, {mv_url}\")\n",
    "\n",
    "#             mv_soup = BeautifulSoup(r_mv.content, \"html\")\n",
    "#             dict = json.loads(mv_soup.get_text())\n",
    "#             self.title = dict['title']\n",
    "#             self.poster_path = dict['poster_path']\n",
    "#             self.movielensId = movielensId,\n",
    "# #             self.movielens_mean_rating = movielens_mean_rating,\n",
    "# #             self.movielens_std_rating = movielens_std_rating,\n",
    "# #             self.movielens_pct_5s = movielens_pct_5s,\n",
    "#             self.tmdbId = movie_id,\n",
    "#             self.imdbId = dict['imdb_id'],\n",
    "#             self.budget = dict['budget'],\n",
    "#             self.revenue = dict['revenue'],\n",
    "#             self.tmdb_popularity = dict['popularity'],\n",
    "#             self.tmdb_vote_average = dict['vote_average'],\n",
    "#             self.tmdb_vote_count = dict['vote_count'],\n",
    "#             self.release_date = dict['release_date'],\n",
    "#             self.tmdb_overview = dict['overview'],\n",
    "#             self.tmdb_original_ln = dict['original_language'],\n",
    "        \n",
    "#             if len(dict['genres']) > 0:\n",
    "#                 self.tmdb_genre_1 = dict['genres'][0]['name']\n",
    "#             if len(dict['genres']) > 1:\n",
    "#                 self.tmdb_genre_2 = dict['genres'][1]['name']\n",
    "#             if len(dict['genres']) > 2:\n",
    "#                 self.tmdb_genre_3 = dict['genres'][2]['name']\n",
    "        \n",
    "#             # Load cast info\n",
    "#             cast_url = f'https://api.themoviedb.org/3/movie/{movie_id}/credits?api_key={api_key}&language=en-US'\n",
    "#             r_cast = requests.get(cast_url, allow_redirects=False)\n",
    "#             if r_cast.status_code == 200:\n",
    "#                 pass\n",
    "#             else:\n",
    "#                 print(f\"Fail {r_cast.status_code}, {cast_url}\")\n",
    "\n",
    "#             cast_soup = BeautifulSoup(r_cast.content, \"html\")\n",
    "#             cast_dict = json.loads(cast_soup.get_text())\n",
    "#             self.cast = cast_dict['cast'][:10]\n",
    "\n",
    "#             #Load TMDB recommendations\n",
    "#             recs_url = f'https://api.themoviedb.org/3/movie/{movie_id}/recommendations?api_key={api_key}&language=en-US'\n",
    "#             r_recs = requests.get(recs_url, allow_redirects=False)\n",
    "#             if r_recs.status_code == 200:\n",
    "#                 pass\n",
    "#             else:\n",
    "#                 print(f\"Fail {r_recs.status_code}, {recs_url}\")\n",
    "\n",
    "#             recs_soup = BeautifulSoup(r_recs.content, \"html\")\n",
    "#             recs_dict = json.loads(recs_soup.get_text())\n",
    "#             self.tmdb_recommendations = recs_dict['results'][:20]\n",
    "#         except Exception as msg:\n",
    "#             print(self.tmdbId, 'Exception', msg)\n",
    "\n",
    "        \n",
    "#     def __repr__(self):\n",
    "#         return repr(self.__dict__)\n",
    "\n",
    "#     def __setitem__(self, key, item):\n",
    "#         self.__dict__[key] = item\n",
    "\n",
    "#     def __getitem__(self, key):\n",
    "#         return self.__dict__[key]\n",
    "        "
   ]
  },
  {
   "cell_type": "code",
   "execution_count": 4,
   "metadata": {},
   "outputs": [],
   "source": [
    "movie_list = pd.read_csv('data/links.csv')"
   ]
  },
  {
   "cell_type": "code",
   "execution_count": 5,
   "metadata": {},
   "outputs": [
    {
     "data": {
      "text/html": [
       "<div>\n",
       "<style scoped>\n",
       "    .dataframe tbody tr th:only-of-type {\n",
       "        vertical-align: middle;\n",
       "    }\n",
       "\n",
       "    .dataframe tbody tr th {\n",
       "        vertical-align: top;\n",
       "    }\n",
       "\n",
       "    .dataframe thead th {\n",
       "        text-align: right;\n",
       "    }\n",
       "</style>\n",
       "<table border=\"1\" class=\"dataframe\">\n",
       "  <thead>\n",
       "    <tr style=\"text-align: right;\">\n",
       "      <th></th>\n",
       "      <th>movieId</th>\n",
       "      <th>imdbId</th>\n",
       "      <th>tmdbId</th>\n",
       "    </tr>\n",
       "  </thead>\n",
       "  <tbody>\n",
       "    <tr>\n",
       "      <th>0</th>\n",
       "      <td>1</td>\n",
       "      <td>114709</td>\n",
       "      <td>862.0</td>\n",
       "    </tr>\n",
       "  </tbody>\n",
       "</table>\n",
       "</div>"
      ],
      "text/plain": [
       "   movieId  imdbId  tmdbId\n",
       "0        1  114709   862.0"
      ]
     },
     "execution_count": 5,
     "metadata": {},
     "output_type": "execute_result"
    }
   ],
   "source": [
    "movie_id = 880 #antonia\n",
    "# movie_id = 114750 # Dear White People\n",
    "# movie_id = 55721 # bridesmaids\n",
    "# movie_id = 629 #The Usual Suspects\n",
    "# movie_id = 496243 #Parasite\n",
    "# movie_id = 50348 # Lincoln Lawyer\n",
    "# movie_id = 637 #Life is Beautiful\n",
    "time_test = movie_list[:5]\n",
    "time_test.head(1)"
   ]
  },
  {
   "cell_type": "code",
   "execution_count": 6,
   "metadata": {},
   "outputs": [],
   "source": [
    "movies = []\n",
    "for i in range(len(time_test)):\n",
    "    curr_movie = Movie()\n",
    "    curr_movie.load_tmdb_movie(str(time_test.iloc[i][0]), str(time_test.iloc[i][2]))\n",
    "    movies.append(curr_movie)\n",
    "    \n",
    "with open('data/mv_pkl.pkl','wb') as file:\n",
    "    pickle.dump(movies, file)\n"
   ]
  },
  {
   "cell_type": "code",
   "execution_count": 7,
   "metadata": {},
   "outputs": [],
   "source": [
    "with open('data/mv_pkl.pkl', 'rb') as input:\n",
    "    d = pickle.load(input)"
   ]
  },
  {
   "cell_type": "code",
   "execution_count": 8,
   "metadata": {},
   "outputs": [
    {
     "data": {
      "text/plain": [
       "{'title': 'Toy Story', 'poster_path': '/uXDfjJbdP4ijW5hWSBrPrlKpxab.jpg', 'movielensId': ('1.0',), 'movielens_mean_rating': (None,), 'movielens_std_rating': (None,), 'movielens_pct_5s': (None,), 'tmdbId': ('862.0',), 'imdbId': ('tt0114709',), 'budget': (30000000,), 'revenue': (373554033,), 'tmdb_popularity': (50.033,), 'tmdb_vote_average': (7.9,), 'tmdb_vote_count': (12917,), 'release_date': ('1995-10-30',), 'tmdb_overview': (\"Led by Woody, Andy's toys live happily in his room until Andy's birthday brings Buzz Lightyear onto the scene. Afraid of losing his place in Andy's heart, Woody plots against Buzz. But when circumstances separate Buzz and Woody from their owner, the duo eventually learns to put aside their differences.\",), 'tmdb_original_ln': ('en',), 'cast': [{'cast_id': 14, 'character': 'Woody (voice)', 'credit_id': '52fe4284c3a36847f8024f95', 'gender': 2, 'id': 31, 'name': 'Tom Hanks', 'order': 0, 'profile_path': '/93issUMFNo0PeMjIVgpgtgKnUSk.jpg'}, {'cast_id': 15, 'character': 'Buzz Lightyear (voice)', 'credit_id': '52fe4284c3a36847f8024f99', 'gender': 2, 'id': 12898, 'name': 'Tim Allen', 'order': 1, 'profile_path': '/6qlDjidQSKNcJFHzTXh0gQS83ub.jpg'}, {'cast_id': 16, 'character': 'Mr. Potato Head (voice)', 'credit_id': '52fe4284c3a36847f8024f9d', 'gender': 2, 'id': 7167, 'name': 'Don Rickles', 'order': 2, 'profile_path': '/iJLQV4dcbTUgxlWJakjDldzlMXS.jpg'}, {'cast_id': 17, 'character': 'Slinky Dog (voice)', 'credit_id': '52fe4284c3a36847f8024fa1', 'gender': 2, 'id': 12899, 'name': 'Jim Varney', 'order': 3, 'profile_path': '/j2De8KaACIbi4IX8WfUZGmCW1k2.jpg'}, {'cast_id': 18, 'character': 'Rex (voice)', 'credit_id': '52fe4284c3a36847f8024fa5', 'gender': 2, 'id': 12900, 'name': 'Wallace Shawn', 'order': 4, 'profile_path': '/tiiz0t7fFiaeoujUyejzIiLRYpu.jpg'}, {'cast_id': 19, 'character': 'Hamm (voice)', 'credit_id': '52fe4284c3a36847f8024fa9', 'gender': 2, 'id': 7907, 'name': 'John Ratzenberger', 'order': 5, 'profile_path': '/oRtDEOuIO1yDhTz5dORBdxXuLMO.jpg'}, {'cast_id': 20, 'character': 'Bo Peep (voice)', 'credit_id': '52fe4284c3a36847f8024fad', 'gender': 1, 'id': 8873, 'name': 'Annie Potts', 'order': 6, 'profile_path': '/hWIzkAH7jkSkxBfwdudxbSPxeno.jpg'}, {'cast_id': 26, 'character': 'Andy (voice)', 'credit_id': '52fe4284c3a36847f8024fc1', 'gender': 2, 'id': 1116442, 'name': 'John Morris', 'order': 7, 'profile_path': '/xMtT5UlPYZX7tobi55YFcdgyFp.jpg'}, {'cast_id': 22, 'character': 'Sid (voice)', 'credit_id': '52fe4284c3a36847f8024fb1', 'gender': 2, 'id': 12901, 'name': 'Erik von Detten', 'order': 8, 'profile_path': None}, {'cast_id': 23, 'character': 'Mrs. Davis (voice)', 'credit_id': '52fe4284c3a36847f8024fb5', 'gender': 1, 'id': 12133, 'name': 'Laurie Metcalf', 'order': 9, 'profile_path': '/paZsjbxC1yOw9U3zrrkzcElyaV3.jpg'}], 'tmdb_genre_1': 'Animation', 'tmdb_genre_2': 'Comedy', 'tmdb_genre_3': 'Family', 'tmdb_recommendations': [{'id': 863, 'video': False, 'vote_count': 9707, 'vote_average': 7.5, 'title': 'Toy Story 2', 'release_date': '1999-10-30', 'original_language': 'en', 'original_title': 'Toy Story 2', 'genre_ids': [16, 35, 10751], 'backdrop_path': '/91qfG6VaxRsCh1SbIi1w2vxknsL.jpg', 'adult': False, 'overview': \"Andy heads off to Cowboy Camp, leaving his toys to their own devices. Things shift into high gear when an obsessive toy collector named Al McWhiggen, owner of Al's Toy Barn kidnaps Woody. Andy's toys mount a daring rescue mission, Buzz Lightyear meets his match and Woody has to decide where he and his heart truly belong.\", 'poster_path': '/yFWQkz2ynjwsazT6xQiIXEUsyuh.jpg', 'popularity': 40.202}, {'id': 10193, 'video': False, 'vote_count': 10647, 'vote_average': 7.8, 'title': 'Toy Story 3', 'release_date': '2010-06-16', 'original_language': 'en', 'original_title': 'Toy Story 3', 'genre_ids': [16, 35, 10751], 'backdrop_path': '/wE5JGzujfvDPMIfFjJyrhXFjZLc.jpg', 'adult': False, 'overview': \"Woody, Buzz, and the rest of Andy's toys haven't been played with in years. With Andy about to go to college, the gang find themselves accidentally left at a nefarious day care center. The toys must band together to escape and return home to Andy.\", 'poster_path': '/4cpGytCB0eqvRks4FAlJoUJiFPG.jpg', 'popularity': 41.861}, {'id': 585, 'video': False, 'vote_count': 13183, 'vote_average': 7.8, 'title': 'Monsters, Inc.', 'release_date': '2001-11-01', 'original_language': 'en', 'original_title': 'Monsters, Inc.', 'genre_ids': [16, 35, 10751], 'backdrop_path': '/pGK0oaeIVxpIroNHu1wDqXf4vv5.jpg', 'adult': False, 'overview': \"James Sullivan and Mike Wazowski are monsters, they earn their living scaring children and are the best in the business... even though they're more afraid of the children than they are of them. When a child accidentally enters their world, James and Mike suddenly find that kids are not to be afraid of and they uncover a conspiracy that could threaten all children across the world.\", 'poster_path': '/sgheSKxZkttIe8ONsf2sWXPgip3.jpg', 'popularity': 55.48}, {'id': 12, 'video': False, 'vote_count': 14003, 'vote_average': 7.8, 'title': 'Finding Nemo', 'release_date': '2003-05-30', 'original_language': 'en', 'original_title': 'Finding Nemo', 'genre_ids': [16, 10751], 'backdrop_path': '/dFYguAfeVt19qAbzJ5mArn7DEJw.jpg', 'adult': False, 'overview': \"Nemo, an adventurous young clownfish, is unexpectedly taken from his Great Barrier Reef home to a dentist's office aquarium. It's up to his worrisome father Marlin and a friendly but forgetful fish Dory to bring Nemo home -- meeting vegetarian sharks, surfer dude turtles, hypnotic jellyfish, hungry seagulls, and more along the way.\", 'poster_path': '/8h0CG12Oft1GqthLmsctg8iuQQj.jpg', 'popularity': 41.394}, {'id': 9806, 'video': False, 'vote_count': 12961, 'vote_average': 7.7, 'title': 'The Incredibles', 'release_date': '2004-11-05', 'original_language': 'en', 'original_title': 'The Incredibles', 'genre_ids': [28, 12, 16, 10751], 'backdrop_path': '/qEqrnYQWxHFBss0ugQsLORAI6aL.jpg', 'adult': False, 'overview': \"Bob Parr has given up his superhero days to log in time as an insurance adjuster and raise his three children with his formerly heroic wife in suburbia. But when he receives a mysterious assignment, it's time to get back into costume.\", 'poster_path': '/2LqaLgk4Z226KkgPJuiOQ58wvrm.jpg', 'popularity': 45.736}, {'id': 2062, 'video': False, 'vote_count': 11497, 'vote_average': 7.7, 'title': 'Ratatouille', 'release_date': '2007-06-22', 'original_language': 'en', 'original_title': 'Ratatouille', 'genre_ids': [16, 35, 14, 10751], 'backdrop_path': '/xgDj56UWyeWQcxQ44f5A3RTWuSs.jpg', 'adult': False, 'overview': \"A rat named Remy dreams of becoming a great French chef despite his family's wishes and the obvious problem of being a rat in a decidedly rodent-phobic profession. When fate places Remy in the sewers of Paris, he finds himself ideally situated beneath a restaurant made famous by his culinary hero, Auguste Gusteau. Despite the apparent dangers of being an unlikely - and certainly unwanted - visitor in the kitchen of a fine French restaurant, Remy's passion for cooking soon sets into motion a hilarious and exciting rat race that turns the culinary world of Paris upside down.\", 'poster_path': '/npHNjldbeTHdKKw28bJKs7lzqzj.jpg', 'popularity': 47.648}, {'id': 808, 'video': False, 'vote_count': 11202, 'vote_average': 7.6, 'title': 'Shrek', 'release_date': '2001-05-18', 'original_language': 'en', 'original_title': 'Shrek', 'genre_ids': [12, 16, 35, 14, 10751], 'backdrop_path': '/2l5UHZBcp9cx1PwKLdisJ0gV9jB.jpg', 'adult': False, 'overview': \"It ain't easy bein' green -- especially if you're a likable (albeit smelly) ogre named Shrek. On a mission to retrieve a gorgeous princess from the clutches of a fire-breathing dragon, Shrek teams up with an unlikely compatriot -- a wisecracking donkey.\", 'poster_path': '/iB64vpL3dIObOtMZgX3RqdVdQDc.jpg', 'popularity': 59.902}, {'adult': False, 'backdrop_path': '/sd4xN5xi8tKRPrJOWwNiZEile7f.jpg', 'genre_ids': [16, 12, 35, 10751], 'id': 920, 'original_language': 'en', 'original_title': 'Cars', 'overview': \"Lightning McQueen, a hotshot rookie race car driven to succeed, discovers that life is about the journey, not the finish line, when he finds himself unexpectedly detoured in the sleepy Route 66 town of Radiator Springs. On route across the country to the big Piston Cup Championship in California to compete against two seasoned pros, McQueen gets to know the town's offbeat characters.\", 'poster_path': '/qa6HCwP4Z15l3hpsASz3auugEW6.jpg', 'release_date': '2006-06-08', 'title': 'Cars', 'video': False, 'vote_average': 6.8, 'vote_count': 9783, 'popularity': 27.303}, {'id': 9487, 'video': False, 'vote_count': 6387, 'vote_average': 6.9, 'title': \"A Bug's Life\", 'release_date': '1998-11-25', 'original_language': 'en', 'original_title': \"A Bug's Life\", 'genre_ids': [12, 16, 35, 10751], 'backdrop_path': '/s0eIBHJROgDWO3IoOt8FfQCFPGh.jpg', 'adult': False, 'overview': 'On behalf of \"oppressed bugs everywhere,\" an inventive ant named Flik hires a troupe of warrior bugs to defend his bustling colony from a horde of freeloading grasshoppers led by the evil-minded Hopper.', 'poster_path': '/kHgWI1AbYnYPZrUl5DCwzq9tyB2.jpg', 'popularity': 38.475}, {'adult': False, 'backdrop_path': '/mCVQ2cZmGkAHG2Q3fDZTQA1YzeI.jpg', 'genre_ids': [16, 35, 10751, 12], 'id': 425, 'original_language': 'en', 'original_title': 'Ice Age', 'overview': 'With the impending ice age almost upon them, a mismatched trio of prehistoric critters – Manny the woolly mammoth, Diego the saber-toothed tiger and Sid the giant sloth – find an orphaned infant and decide to return it to its human parents. Along the way, the unlikely allies become friends but, when enemies attack, their quest takes on far nobler aims.', 'poster_path': '/gLhHHZUzeseRXShoDyC4VqLgsNv.jpg', 'release_date': '2002-03-10', 'title': 'Ice Age', 'video': False, 'vote_average': 7.3, 'vote_count': 9279, 'popularity': 52.221}, {'id': 809, 'video': False, 'vote_count': 8047, 'vote_average': 7.1, 'title': 'Shrek 2', 'release_date': '2004-05-19', 'original_language': 'en', 'original_title': 'Shrek 2', 'genre_ids': [12, 16, 35, 14, 10751], 'backdrop_path': '/wD44moEofk0EZyFxLQItuwdGsvV.jpg', 'adult': False, 'overview': \"Shrek, Fiona and Donkey set off to Far, Far Away to meet Fiona's mother and father. But not everyone is happy. Shrek and the King find it hard to get along, and there's tension in the marriage. The fairy godmother discovers that Shrek has married Fiona instead of her Son Prince Charming and sets about destroying their marriage.\", 'poster_path': '/2yYP0PQjG8zVqturh1BAqu2Tixl.jpg', 'popularity': 61.739}, {'id': 953, 'video': False, 'vote_count': 7674, 'vote_average': 6.8, 'title': 'Madagascar', 'release_date': '2005-05-25', 'original_language': 'en', 'original_title': 'Madagascar', 'genre_ids': [12, 16, 35, 10751], 'backdrop_path': '/8NCftAWfkETwrbf7QwEaDH1xpus.jpg', 'adult': False, 'overview': 'Alex the lion is the king of the urban jungle, the main attraction at New York’s Central Park Zoo. He and his best friends—Marty the zebra, Melman the giraffe and Gloria the hippo—have spent their whole lives in blissful captivity before an admiring public and with regular meals provided for them. Not content to leave well enough alone, Marty lets his curiosity get the better of him and makes his escape—with the help of some prodigious penguins—to explore the world.', 'poster_path': '/uHkmbxb70IQhV4q94MiBe9dqVqv.jpg', 'popularity': 38.525}, {'id': 14160, 'video': False, 'vote_count': 14783, 'vote_average': 7.9, 'title': 'Up', 'release_date': '2009-05-28', 'original_language': 'en', 'original_title': 'Up', 'genre_ids': [12, 16, 35, 10751], 'backdrop_path': '/cyVZKnP64VTrnRPXduFwmCZkxLi.jpg', 'adult': False, 'overview': 'Carl Fredricksen spent his entire life dreaming of exploring the globe and experiencing life to its fullest. But at age 78, life seems to have passed him by, until a twist of fate (and a persistent 8-year old Wilderness Explorer named Russell) gives him a new lease on life.', 'poster_path': '/rIfKIYMbwVlnAXOOaQRsm34GW3S.jpg', 'popularity': 39.89}, {'id': 950, 'video': False, 'vote_count': 7137, 'vote_average': 6.6, 'title': 'Ice Age: The Meltdown', 'release_date': '2006-03-29', 'original_language': 'en', 'original_title': 'Ice Age: The Meltdown', 'genre_ids': [12, 16, 35, 10751], 'backdrop_path': '/wRTZaxAiDP0ZEeQsO0HiiSqYCSp.jpg', 'adult': False, 'overview': \"Diego, Manny and Sid return in this sequel to the hit animated movie Ice Age. This time around, the deep freeze is over, and the ice-covered earth is starting to melt, which will destroy the trio's cherished valley. The impending disaster prompts them to reunite and warn all the other beasts about the desperate situation.\", 'poster_path': '/eYff7CWPMCKhIGTos2SzTd3VFbA.jpg', 'popularity': 39.724}, {'id': 8587, 'video': False, 'vote_count': 12957, 'vote_average': 8.3, 'title': 'The Lion King', 'release_date': '1994-06-23', 'original_language': 'en', 'original_title': 'The Lion King', 'genre_ids': [16, 18, 10751], 'backdrop_path': '/wXsQvli6tWqja51pYxXNG1LFIGV.jpg', 'adult': False, 'overview': 'A young lion prince is cast out of his pride by his cruel uncle, who claims he killed his father. While the uncle rules with an iron paw, the prince grows up beyond the Savannah, living by a philosophy: No worries for the rest of your days. But when his past comes to haunt him, the young prince must decide his fate: Will he remain an outcast or face his demons and become what he needs to be?', 'poster_path': '/sKCr78MXSLixwmZ8DyJLrpMsd15.jpg', 'popularity': 60.94}, {'id': 9502, 'video': False, 'vote_count': 7704, 'vote_average': 7.1, 'title': 'Kung Fu Panda', 'release_date': '2008-06-04', 'original_language': 'en', 'original_title': 'Kung Fu Panda', 'genre_ids': [12, 16, 35, 10751], 'backdrop_path': '/ykdS8bR7eKwjANHeVSSsdyU45ia.jpg', 'adult': False, 'overview': 'When the Valley of Peace is threatened, lazy Po the panda discovers his destiny as the \"chosen one\" and trains to become a kung fu hero, but transforming the unsleek slacker into a brave warrior won\\'t be easy. It\\'s up to Master Shifu and the Furious Five -- Tigress, Crane, Mantis, Viper and Monkey -- to give it a try.', 'poster_path': '/wWt4JYXTg5Wr3xBW2phBrMKgp3x.jpg', 'popularity': 41.671}, {'id': 812, 'video': False, 'vote_count': 8240, 'vote_average': 7.6, 'title': 'Aladdin', 'release_date': '1992-11-25', 'original_language': 'en', 'original_title': 'Aladdin', 'genre_ids': [12, 16, 14, 10749, 10751], 'backdrop_path': '/5OeY4U2rzePxWq2rkqMajUx2gz7.jpg', 'adult': False, 'overview': 'Princess Jasmine grows tired of being forced to remain in the palace, so she sneaks out into the marketplace, in disguise, where she meets street-urchin Aladdin.  The couple falls in love, although Jasmine may only marry a prince.  After being thrown in jail, Aladdin becomes embroiled in a plot to find a mysterious lamp, with which the evil Jafar hopes to rule the land.', 'poster_path': '/eLFfl7vS8dkeG1hKp5mwbm37V83.jpg', 'popularity': 43.259}, {'id': 810, 'video': False, 'vote_count': 6141, 'vote_average': 6.2, 'title': 'Shrek the Third', 'release_date': '2007-05-17', 'original_language': 'en', 'original_title': 'Shrek the Third', 'genre_ids': [12, 16, 35, 14, 10751], 'backdrop_path': '/lxbKrBo1wZ2U9BS1jiZyNe3qI4J.jpg', 'adult': False, 'overview': 'The King of Far Far Away has died and Shrek and Fiona are to become King & Queen. However, Shrek wants to return to his cozy swamp and live in peace and quiet, so when he finds out there is another heir to the throne, they set off to bring him back to rule the kingdom.', 'poster_path': '/jaNe16gE9zdAYyVwRqmlmRKshHm.jpg', 'popularity': 35.467}, {'adult': False, 'backdrop_path': '/hmAOMwVeJfdWXgK1Ikyl2eYkE99.jpg', 'genre_ids': [16, 10751], 'id': 62211, 'original_language': 'en', 'original_title': 'Monsters University', 'overview': \"A look at the relationship between Mike and Sulley during their days at Monsters University — when they weren't necessarily the best of friends.\", 'poster_path': '/y7thwJ7z5Bplv6vwl6RI0yteaDD.jpg', 'release_date': '2013-06-20', 'title': 'Monsters University', 'video': False, 'vote_average': 7.0, 'vote_count': 7746, 'popularity': 36.51}, {'id': 10020, 'video': False, 'vote_count': 7135, 'vote_average': 7.7, 'title': 'Beauty and the Beast', 'release_date': '1991-11-13', 'original_language': 'en', 'original_title': 'Beauty and the Beast', 'genre_ids': [16, 14, 10749, 10751], 'backdrop_path': '/2RwQ5cwT1Ebt3ScxkJpR1nHOkXy.jpg', 'adult': False, 'overview': \"Follow the adventures of Belle, a bright young woman who finds herself in the castle of a prince who's been turned into a mysterious beast. With the help of the castle's enchanted staff, Belle soon learns the most important lesson of all -- that true beauty comes from within.\", 'poster_path': '/7oCAPOphDKpIaxTrnukmDrZ8XKD.jpg', 'popularity': 37.664}]}"
      ]
     },
     "execution_count": 8,
     "metadata": {},
     "output_type": "execute_result"
    }
   ],
   "source": [
    "d[0]"
   ]
  },
  {
   "cell_type": "code",
   "execution_count": null,
   "metadata": {},
   "outputs": [],
   "source": [
    "# Movie details from TMDB. Contains oveview, genres, budget, revenue, popularity, vote_average, vote_count, release_date, \n",
    "\n",
    "url = f'https://api.themoviedb.org/3/movie/{movie_id}?api_key={api_key}&language=en-US'\n",
    "r = requests.get(url, allow_redirects=False)\n",
    "if r.status_code == 200:\n",
    "    print(f\"Success {r.status_code}, {url}\")\n",
    "\n",
    "soup = BeautifulSoup(r.content, \"html\")\n",
    "soup.prettify()\n",
    "dict = json.loads(soup.get_text())\n",
    "dict"
   ]
  },
  {
   "cell_type": "code",
   "execution_count": null,
   "metadata": {},
   "outputs": [],
   "source": [
    "# Recommendations from TMDB---ooh this looks good. Love the recs under Parasite. Want to see many of these.\n",
    "\n",
    "url = f'https://api.themoviedb.org/3/movie/{movie_id}/recommendations?api_key={api_key}&language=en-US'\n",
    "r = requests.get(url, allow_redirects=False)\n",
    "if r.status_code == 200:\n",
    "    print(f\"Success {r.status_code}, {url}\")\n",
    "\n",
    "soup = BeautifulSoup(r.content, \"html\")\n",
    "soup.prettify()\n",
    "dict = json.loads(soup.get_text())\n",
    "dict['results'][0]\n",
    "for mv in dict['results']:\n",
    "    print(mv['popularity'], mv['vote_average'], mv['vote_count']/mv['vote_average'], mv['title'], mv['release_date'], mv['genre_ids'])"
   ]
  },
  {
   "cell_type": "code",
   "execution_count": null,
   "metadata": {
    "jupyter": {
     "source_hidden": true
    }
   },
   "outputs": [],
   "source": [
    "# Similar from TMDB -- not nearly so helpful. Similars for Parasite are movies made in Korea.\n",
    "# Reviews are also not helpful. They're random and inconsistent.\n",
    "\n",
    "movie_id = 496243\n",
    "url = f'https://api.themoviedb.org/3/movie/{movie_id}/similar?api_key={api_key}&language=en-US'\n",
    "r = requests.get(url, allow_redirects=False)\n",
    "if r.status_code == 200:\n",
    "    print(f\"Success {r.status_code}, {url}\")\n",
    "\n",
    "soup = BeautifulSoup(r.content, \"html\")\n",
    "soup.prettify()\n",
    "dict = json.loads(soup.get_text())\n",
    "dict['results'][0]"
   ]
  },
  {
   "cell_type": "code",
   "execution_count": null,
   "metadata": {},
   "outputs": [],
   "source": [
    "# Genre list from TMDB\n",
    "movie_id = 496243\n",
    "url = f'https://api.themoviedb.org/3/genre/movie/list?api_key={api_key}&language=en-US'\n",
    "r = requests.get(url, allow_redirects=False)\n",
    "if r.status_code == 200:\n",
    "    print(f\"Success {r.status_code}, {url}\")\n",
    "\n",
    "soup = BeautifulSoup(r.content, \"html\")\n",
    "jsoup.prettify()\n",
    "dict = json.loads(soup.get_text())\n",
    "dict\n"
   ]
  },
  {
   "cell_type": "markdown",
   "metadata": {},
   "source": [
    "## NYT reviews. \n",
    "- API using the title returns a link to the review page. Not successful with being able to get actual reviews from the web page. "
   ]
  },
  {
   "cell_type": "code",
   "execution_count": null,
   "metadata": {
    "jupyter": {
     "source_hidden": true
    }
   },
   "outputs": [],
   "source": [
    "# url = f'https://api.nytimes.com/svc/movies/v2/reviews/search.json?query=dear-white-people&api-key={nyt_api_key}'\n",
    "\n",
    "# header_map = [{\"User-Agent\": \"Mozilla/5.0\"}, {\"User-Agent\": \"XY\"}, {}]\n",
    "\n",
    "# r = requests.get(url, allow_redirects=True)\n",
    "# if r.status_code == 200:\n",
    "#     print(f\"Success {r.status_code}, {url}\")\n",
    "#     soup = BeautifulSoup(r.content, \"html\")\n",
    "#     soup.p.string\n",
    "#     print(soup.prettify())\n",
    "#     dict = json.loads(soup.p.get_text())\n",
    "#     url2 = dict['results'][0]['link']['url']\n",
    "#     for header in header_map:\n",
    "#         r2 = requests.get(url2, allow_redirects=True)\n",
    "#         print(r2)\n",
    "#         if r2.status_code == 200:\n",
    "#             print(f\"Redirect success {r2.status_code}, {url2}\")\n",
    "#             soup2 = BeautifulSoup(r2.content, \"html\")\n",
    "#             print(soup2.prettify())\n",
    "#             json_data = soup2.find_all(type=\"application/ld+json\")\n",
    "#             for i in range(len(json_data)):\n",
    "#                 json_soup = json.loads(json_data[i].string)\n",
    "#                 print(json_soup)"
   ]
  },
  {
   "cell_type": "code",
   "execution_count": null,
   "metadata": {},
   "outputs": [],
   "source": []
  }
 ],
 "metadata": {
  "kernelspec": {
   "display_name": "Python 3",
   "language": "python",
   "name": "python3"
  },
  "language_info": {
   "codemirror_mode": {
    "name": "ipython",
    "version": 3
   },
   "file_extension": ".py",
   "mimetype": "text/x-python",
   "name": "python",
   "nbconvert_exporter": "python",
   "pygments_lexer": "ipython3",
   "version": "3.7.7"
  }
 },
 "nbformat": 4,
 "nbformat_minor": 4
}
