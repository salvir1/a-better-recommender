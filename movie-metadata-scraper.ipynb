{
 "cells": [
  {
   "cell_type": "code",
   "execution_count": 9,
   "metadata": {},
   "outputs": [],
   "source": [
    "import requests\n",
    "from bs4 import BeautifulSoup\n",
    "from bs4.element import Tag\n",
    "from lxml import html\n",
    "import json\n",
    "import pandas as pd\n",
    "import re\n",
    "from src.movie_class import *"
   ]
  },
  {
   "cell_type": "code",
   "execution_count": 10,
   "metadata": {},
   "outputs": [
    {
     "name": "stdout",
     "output_type": "stream",
     "text": [
      "The autoreload extension is already loaded. To reload it, use:\n",
      "  %reload_ext autoreload\n"
     ]
    }
   ],
   "source": [
    "%load_ext autoreload\n",
    "%autoreload 2"
   ]
  },
  {
   "cell_type": "code",
   "execution_count": 3,
   "metadata": {
    "jupyter": {
     "source_hidden": true
    }
   },
   "outputs": [],
   "source": [
    "# class Movie:\n",
    "#     '''class that stores data for a movie'''\n",
    "#     def __init__(\n",
    "#         self,\n",
    "#         title: str = '',\n",
    "#         poster_path: str = '',\n",
    "#         movielensId: str = '',\n",
    "#         movielens_mean_rating: float = None,\n",
    "#         movielens_std_rating: float = None,\n",
    "#         movielens_pct_5s: float = None,\n",
    "#         tmdbId: str = '',\n",
    "#         imdbId: str = '',\n",
    "#         budget: int = None,\n",
    "#         revenue: int = None,\n",
    "#         tmdb_popularity: float = None,\n",
    "#         tmdb_vote_average: float = None,\n",
    "#         tmdb_vote_count: int = None,\n",
    "#         release_date: str = '',\n",
    "#         tmdb_overview: str = '',\n",
    "#         tmdb_original_ln: str = '',\n",
    "#         cast: list = [],\n",
    "#         tmdb_genre_1: str = '',\n",
    "#         tmdb_genre_2: str = '',\n",
    "#         tmdb_genre_3: str = '',\n",
    "#         tmdb_recommendations: list = []\n",
    "#     ):\n",
    "        \n",
    "#         self.title = title,\n",
    "#         self.poster_path = poster_path,\n",
    "#         self.movielensId = movielensId,\n",
    "#         self.movielens_mean_rating = movielens_mean_rating,\n",
    "#         self.movielens_std_rating = movielens_std_rating,\n",
    "#         self.movielens_pct_5s = movielens_pct_5s,\n",
    "#         self.tmdbId = tmdbId,\n",
    "#         self.imdbId = imdbId,\n",
    "#         self.budget = budget,\n",
    "#         self.revenue = revenue,\n",
    "#         self.tmdb_popularity = tmdb_popularity,\n",
    "#         self.tmdb_vote_average = tmdb_vote_average,\n",
    "#         self.tmdb_vote_count = tmdb_vote_count,\n",
    "#         self.release_date = release_date,\n",
    "#         self.tmdb_overview = tmdb_overview,\n",
    "#         self.tmdb_original_ln = tmdb_original_ln,\n",
    "#         self.cast = cast,\n",
    "#         self.tmdb_genre_1 = tmdb_genre_1,\n",
    "#         self.tmdb_genre_2 = tmdb_genre_2,\n",
    "#         self.tmdb_genre_3 = tmdb_genre_3,\n",
    "#         self.tmdb_recommendations = tmdb_recommendations\n",
    "\n",
    "#     def load_tmdb_movie(self, movielensId, movie_id):\n",
    "#         mv_url = f'https://api.themoviedb.org/3/movie/{movie_id}?api_key={api_key}&language=en-US'\n",
    "#         r_mv = requests.get(mv_url, allow_redirects=False)\n",
    "#         try:\n",
    "#             if r_mv.status_code == 200:\n",
    "#                 pass\n",
    "#             else:\n",
    "#                 print(f\"Fail {r_mv.status_code}, {mv_url}\")\n",
    "\n",
    "#             mv_soup = BeautifulSoup(r_mv.content, \"html\")\n",
    "#             dict = json.loads(mv_soup.get_text())\n",
    "#             self.title = dict['title']\n",
    "#             self.poster_path = dict['poster_path']\n",
    "#             self.movielensId = movielensId,\n",
    "# #             self.movielens_mean_rating = movielens_mean_rating,\n",
    "# #             self.movielens_std_rating = movielens_std_rating,\n",
    "# #             self.movielens_pct_5s = movielens_pct_5s,\n",
    "#             self.tmdbId = movie_id,\n",
    "#             self.imdbId = dict['imdb_id'],\n",
    "#             self.budget = dict['budget'],\n",
    "#             self.revenue = dict['revenue'],\n",
    "#             self.tmdb_popularity = dict['popularity'],\n",
    "#             self.tmdb_vote_average = dict['vote_average'],\n",
    "#             self.tmdb_vote_count = dict['vote_count'],\n",
    "#             self.release_date = dict['release_date'],\n",
    "#             self.tmdb_overview = dict['overview'],\n",
    "#             self.tmdb_original_ln = dict['original_language'],\n",
    "        \n",
    "#             if len(dict['genres']) > 0:\n",
    "#                 self.tmdb_genre_1 = dict['genres'][0]['name']\n",
    "#             if len(dict['genres']) > 1:\n",
    "#                 self.tmdb_genre_2 = dict['genres'][1]['name']\n",
    "#             if len(dict['genres']) > 2:\n",
    "#                 self.tmdb_genre_3 = dict['genres'][2]['name']\n",
    "        \n",
    "#             # Load cast info\n",
    "#             cast_url = f'https://api.themoviedb.org/3/movie/{movie_id}/credits?api_key={api_key}&language=en-US'\n",
    "#             r_cast = requests.get(cast_url, allow_redirects=False)\n",
    "#             if r_cast.status_code == 200:\n",
    "#                 pass\n",
    "#             else:\n",
    "#                 print(f\"Fail {r_cast.status_code}, {cast_url}\")\n",
    "\n",
    "#             cast_soup = BeautifulSoup(r_cast.content, \"html\")\n",
    "#             cast_dict = json.loads(cast_soup.get_text())\n",
    "#             self.cast = cast_dict['cast'][:10]\n",
    "\n",
    "#             #Load TMDB recommendations\n",
    "#             recs_url = f'https://api.themoviedb.org/3/movie/{movie_id}/recommendations?api_key={api_key}&language=en-US'\n",
    "#             r_recs = requests.get(recs_url, allow_redirects=False)\n",
    "#             if r_recs.status_code == 200:\n",
    "#                 pass\n",
    "#             else:\n",
    "#                 print(f\"Fail {r_recs.status_code}, {recs_url}\")\n",
    "\n",
    "#             recs_soup = BeautifulSoup(r_recs.content, \"html\")\n",
    "#             recs_dict = json.loads(recs_soup.get_text())\n",
    "#             self.tmdb_recommendations = recs_dict['results'][:20]\n",
    "#         except Exception as msg:\n",
    "#             print(self.tmdbId, 'Exception', msg)\n",
    "\n",
    "        \n",
    "#     def __repr__(self):\n",
    "#         return repr(self.__dict__)\n",
    "\n",
    "#     def __setitem__(self, key, item):\n",
    "#         self.__dict__[key] = item\n",
    "\n",
    "#     def __getitem__(self, key):\n",
    "#         return self.__dict__[key]\n",
    "        "
   ]
  },
  {
   "cell_type": "code",
   "execution_count": 12,
   "metadata": {},
   "outputs": [
    {
     "data": {
      "text/html": [
       "<div>\n",
       "<style scoped>\n",
       "    .dataframe tbody tr th:only-of-type {\n",
       "        vertical-align: middle;\n",
       "    }\n",
       "\n",
       "    .dataframe tbody tr th {\n",
       "        vertical-align: top;\n",
       "    }\n",
       "\n",
       "    .dataframe thead th {\n",
       "        text-align: right;\n",
       "    }\n",
       "</style>\n",
       "<table border=\"1\" class=\"dataframe\">\n",
       "  <thead>\n",
       "    <tr style=\"text-align: right;\">\n",
       "      <th></th>\n",
       "      <th>movieId</th>\n",
       "      <th>imdbId</th>\n",
       "      <th>tmdbId</th>\n",
       "      <th>count</th>\n",
       "      <th>mean</th>\n",
       "      <th>std</th>\n",
       "      <th>stat_score</th>\n",
       "    </tr>\n",
       "  </thead>\n",
       "  <tbody>\n",
       "    <tr>\n",
       "      <th>0</th>\n",
       "      <td>1</td>\n",
       "      <td>114709</td>\n",
       "      <td>862.0</td>\n",
       "      <td>57309</td>\n",
       "      <td>3.893708</td>\n",
       "      <td>0.921552</td>\n",
       "      <td>5.276036</td>\n",
       "    </tr>\n",
       "    <tr>\n",
       "      <th>1</th>\n",
       "      <td>2</td>\n",
       "      <td>113497</td>\n",
       "      <td>8844.0</td>\n",
       "      <td>24228</td>\n",
       "      <td>3.251527</td>\n",
       "      <td>0.959851</td>\n",
       "      <td>4.691304</td>\n",
       "    </tr>\n",
       "    <tr>\n",
       "      <th>2</th>\n",
       "      <td>3</td>\n",
       "      <td>113228</td>\n",
       "      <td>15602.0</td>\n",
       "      <td>11804</td>\n",
       "      <td>3.142028</td>\n",
       "      <td>1.008443</td>\n",
       "      <td>4.654692</td>\n",
       "    </tr>\n",
       "    <tr>\n",
       "      <th>3</th>\n",
       "      <td>4</td>\n",
       "      <td>114885</td>\n",
       "      <td>31357.0</td>\n",
       "      <td>2523</td>\n",
       "      <td>2.853547</td>\n",
       "      <td>1.108531</td>\n",
       "      <td>4.516344</td>\n",
       "    </tr>\n",
       "    <tr>\n",
       "      <th>4</th>\n",
       "      <td>5</td>\n",
       "      <td>113041</td>\n",
       "      <td>11862.0</td>\n",
       "      <td>11714</td>\n",
       "      <td>3.058434</td>\n",
       "      <td>0.996611</td>\n",
       "      <td>4.553351</td>\n",
       "    </tr>\n",
       "  </tbody>\n",
       "</table>\n",
       "</div>"
      ],
      "text/plain": [
       "   movieId  imdbId   tmdbId  count      mean       std  stat_score\n",
       "0        1  114709    862.0  57309  3.893708  0.921552    5.276036\n",
       "1        2  113497   8844.0  24228  3.251527  0.959851    4.691304\n",
       "2        3  113228  15602.0  11804  3.142028  1.008443    4.654692\n",
       "3        4  114885  31357.0   2523  2.853547  1.108531    4.516344\n",
       "4        5  113041  11862.0  11714  3.058434  0.996611    4.553351"
      ]
     },
     "execution_count": 12,
     "metadata": {},
     "output_type": "execute_result"
    }
   ],
   "source": [
    "recs = 5\n",
    "movie_list = pd.read_csv('data/filtered_links.csv')\n",
    "time_test = movie_list[:recs]\n",
    "time_test.head()"
   ]
  },
  {
   "cell_type": "code",
   "execution_count": 13,
   "metadata": {},
   "outputs": [
    {
     "data": {
      "text/html": [
       "<div>\n",
       "<style scoped>\n",
       "    .dataframe tbody tr th:only-of-type {\n",
       "        vertical-align: middle;\n",
       "    }\n",
       "\n",
       "    .dataframe tbody tr th {\n",
       "        vertical-align: top;\n",
       "    }\n",
       "\n",
       "    .dataframe thead th {\n",
       "        text-align: right;\n",
       "    }\n",
       "</style>\n",
       "<table border=\"1\" class=\"dataframe\">\n",
       "  <thead>\n",
       "    <tr style=\"text-align: right;\">\n",
       "      <th></th>\n",
       "      <th>movieId</th>\n",
       "      <th>imdbId</th>\n",
       "      <th>tmdbId</th>\n",
       "      <th>count</th>\n",
       "      <th>mean</th>\n",
       "      <th>std</th>\n",
       "      <th>stat_score</th>\n",
       "    </tr>\n",
       "  </thead>\n",
       "  <tbody>\n",
       "    <tr>\n",
       "      <th>0</th>\n",
       "      <td>1</td>\n",
       "      <td>114709</td>\n",
       "      <td>862.0</td>\n",
       "      <td>57309</td>\n",
       "      <td>3.893708</td>\n",
       "      <td>0.921552</td>\n",
       "      <td>5.276036</td>\n",
       "    </tr>\n",
       "  </tbody>\n",
       "</table>\n",
       "</div>"
      ],
      "text/plain": [
       "   movieId  imdbId  tmdbId  count      mean       std  stat_score\n",
       "0        1  114709   862.0  57309  3.893708  0.921552    5.276036"
      ]
     },
     "execution_count": 13,
     "metadata": {},
     "output_type": "execute_result"
    }
   ],
   "source": [
    "movie_id = 880 #antonia\n",
    "# movie_id = 114750 # Dear White People\n",
    "# movie_id = 55721 # bridesmaids\n",
    "# movie_id = 629 #The Usual Suspects\n",
    "# movie_id = 496243 #Parasite\n",
    "# movie_id = 50348 # Lincoln Lawyer\n",
    "# movie_id = 637 #Life is Beautiful\n",
    "time_test = movie_list[:5]\n",
    "time_test.head(1)"
   ]
  },
  {
   "cell_type": "code",
   "execution_count": 14,
   "metadata": {},
   "outputs": [],
   "source": [
    "movies = []\n",
    "for i in range(len(time_test)):\n",
    "    curr_movie = Movie()\n",
    "    curr_movie.load_tmdb_features(str(time_test.iloc[i][0]), str(time_test.iloc[i][2]))\n",
    "    curr_movie.load_movielens_features(str(time_test.iloc[i][4]), str(time_test.iloc[i][5]))\n",
    "    movies.append(curr_movie)\n"
   ]
  },
  {
   "cell_type": "code",
   "execution_count": 16,
   "metadata": {},
   "outputs": [],
   "source": [
    "with open('data/mv_pkl.pkl','wb') as file:\n",
    "    pickle.dump(movies, file)\n"
   ]
  },
  {
   "cell_type": "code",
   "execution_count": 17,
   "metadata": {},
   "outputs": [],
   "source": [
    "with open('data/mv_pkl.pkl', 'rb') as input:\n",
    "    d = pickle.load(input)"
   ]
  },
  {
   "cell_type": "code",
   "execution_count": 21,
   "metadata": {},
   "outputs": [
    {
     "data": {
      "text/plain": [
       "'3.058434352057368'"
      ]
     },
     "execution_count": 21,
     "metadata": {},
     "output_type": "execute_result"
    }
   ],
   "source": [
    "d[4]['movielens_mean_rating']"
   ]
  },
  {
   "cell_type": "code",
   "execution_count": null,
   "metadata": {},
   "outputs": [],
   "source": [
    "# Movie details from TMDB. Contains oveview, genres, budget, revenue, popularity, vote_average, vote_count, release_date, \n",
    "\n",
    "url = f'https://api.themoviedb.org/3/movie/{movie_id}?api_key={api_key}&language=en-US'\n",
    "r = requests.get(url, allow_redirects=False)\n",
    "if r.status_code == 200:\n",
    "    print(f\"Success {r.status_code}, {url}\")\n",
    "\n",
    "soup = BeautifulSoup(r.content, \"html\")\n",
    "soup.prettify()\n",
    "dict = json.loads(soup.get_text())\n",
    "dict"
   ]
  },
  {
   "cell_type": "code",
   "execution_count": null,
   "metadata": {},
   "outputs": [],
   "source": [
    "# Recommendations from TMDB---ooh this looks good. Love the recs under Parasite. Want to see many of these.\n",
    "\n",
    "url = f'https://api.themoviedb.org/3/movie/{movie_id}/recommendations?api_key={api_key}&language=en-US'\n",
    "r = requests.get(url, allow_redirects=False)\n",
    "if r.status_code == 200:\n",
    "    print(f\"Success {r.status_code}, {url}\")\n",
    "\n",
    "soup = BeautifulSoup(r.content, \"html\")\n",
    "soup.prettify()\n",
    "dict = json.loads(soup.get_text())\n",
    "dict['results'][0]\n",
    "for mv in dict['results']:\n",
    "    print(mv['popularity'], mv['vote_average'], mv['vote_count']/mv['vote_average'], mv['title'], mv['release_date'], mv['genre_ids'])"
   ]
  },
  {
   "cell_type": "code",
   "execution_count": null,
   "metadata": {
    "jupyter": {
     "source_hidden": true
    }
   },
   "outputs": [],
   "source": [
    "# Similar from TMDB -- not nearly so helpful. Similars for Parasite are movies made in Korea.\n",
    "# Reviews are also not helpful. They're random and inconsistent.\n",
    "\n",
    "movie_id = 496243\n",
    "url = f'https://api.themoviedb.org/3/movie/{movie_id}/similar?api_key={api_key}&language=en-US'\n",
    "r = requests.get(url, allow_redirects=False)\n",
    "if r.status_code == 200:\n",
    "    print(f\"Success {r.status_code}, {url}\")\n",
    "\n",
    "soup = BeautifulSoup(r.content, \"html\")\n",
    "soup.prettify()\n",
    "dict = json.loads(soup.get_text())\n",
    "dict['results'][0]"
   ]
  },
  {
   "cell_type": "code",
   "execution_count": null,
   "metadata": {},
   "outputs": [],
   "source": [
    "# Genre list from TMDB\n",
    "movie_id = 496243\n",
    "url = f'https://api.themoviedb.org/3/genre/movie/list?api_key={api_key}&language=en-US'\n",
    "r = requests.get(url, allow_redirects=False)\n",
    "if r.status_code == 200:\n",
    "    print(f\"Success {r.status_code}, {url}\")\n",
    "\n",
    "soup = BeautifulSoup(r.content, \"html\")\n",
    "jsoup.prettify()\n",
    "dict = json.loads(soup.get_text())\n",
    "dict\n"
   ]
  },
  {
   "cell_type": "markdown",
   "metadata": {},
   "source": [
    "## NYT reviews. \n",
    "- API using the title returns a link to the review page. Not successful with being able to get actual reviews from the web page. "
   ]
  },
  {
   "cell_type": "code",
   "execution_count": null,
   "metadata": {
    "jupyter": {
     "source_hidden": true
    }
   },
   "outputs": [],
   "source": [
    "# url = f'https://api.nytimes.com/svc/movies/v2/reviews/search.json?query=dear-white-people&api-key={nyt_api_key}'\n",
    "\n",
    "# header_map = [{\"User-Agent\": \"Mozilla/5.0\"}, {\"User-Agent\": \"XY\"}, {}]\n",
    "\n",
    "# r = requests.get(url, allow_redirects=True)\n",
    "# if r.status_code == 200:\n",
    "#     print(f\"Success {r.status_code}, {url}\")\n",
    "#     soup = BeautifulSoup(r.content, \"html\")\n",
    "#     soup.p.string\n",
    "#     print(soup.prettify())\n",
    "#     dict = json.loads(soup.p.get_text())\n",
    "#     url2 = dict['results'][0]['link']['url']\n",
    "#     for header in header_map:\n",
    "#         r2 = requests.get(url2, allow_redirects=True)\n",
    "#         print(r2)\n",
    "#         if r2.status_code == 200:\n",
    "#             print(f\"Redirect success {r2.status_code}, {url2}\")\n",
    "#             soup2 = BeautifulSoup(r2.content, \"html\")\n",
    "#             print(soup2.prettify())\n",
    "#             json_data = soup2.find_all(type=\"application/ld+json\")\n",
    "#             for i in range(len(json_data)):\n",
    "#                 json_soup = json.loads(json_data[i].string)\n",
    "#                 print(json_soup)"
   ]
  },
  {
   "cell_type": "code",
   "execution_count": null,
   "metadata": {},
   "outputs": [],
   "source": []
  }
 ],
 "metadata": {
  "kernelspec": {
   "display_name": "Python 3",
   "language": "python",
   "name": "python3"
  },
  "language_info": {
   "codemirror_mode": {
    "name": "ipython",
    "version": 3
   },
   "file_extension": ".py",
   "mimetype": "text/x-python",
   "name": "python",
   "nbconvert_exporter": "python",
   "pygments_lexer": "ipython3",
   "version": "3.7.7"
  }
 },
 "nbformat": 4,
 "nbformat_minor": 4
}
