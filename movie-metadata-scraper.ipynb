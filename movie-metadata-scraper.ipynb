{
 "cells": [
  {
   "cell_type": "code",
   "execution_count": 67,
   "metadata": {},
   "outputs": [],
   "source": [
    "import requests\n",
    "from bs4 import BeautifulSoup\n",
    "from bs4.element import Tag\n",
    "from lxml import html\n",
    "import json\n",
    "import pandas as pd\n",
    "import re\n",
    "from src.movie_class import *"
   ]
  },
  {
   "cell_type": "code",
   "execution_count": 13,
   "metadata": {},
   "outputs": [
    {
     "name": "stdout",
     "output_type": "stream",
     "text": [
      "The autoreload extension is already loaded. To reload it, use:\n",
      "  %reload_ext autoreload\n"
     ]
    }
   ],
   "source": [
    "%load_ext autoreload\n",
    "%autoreload 2"
   ]
  },
  {
   "cell_type": "markdown",
   "metadata": {},
   "source": [
    "### Code to scrape movie meta data\n",
    "- Start with list of movies--uses the filtered list of movies that made it through the prefiltering stage--see movie-prefilters.ipynb\n",
    "- Instantiates Movie() class objects and populates them with info scraped from tmdb.org\n",
    "- This is tester code. movie_class.py was the actual script used. It scraped data and then pickled it periodically. The repeated pickling was necessary because the website occasionally refused requests. It took a series of requests to get all the desired movie meta data.\n",
    "- Class objects were stored in a list for pickling."
   ]
  },
  {
   "cell_type": "code",
   "execution_count": 15,
   "metadata": {},
   "outputs": [
    {
     "data": {
      "text/html": [
       "<div>\n",
       "<style scoped>\n",
       "    .dataframe tbody tr th:only-of-type {\n",
       "        vertical-align: middle;\n",
       "    }\n",
       "\n",
       "    .dataframe tbody tr th {\n",
       "        vertical-align: top;\n",
       "    }\n",
       "\n",
       "    .dataframe thead th {\n",
       "        text-align: right;\n",
       "    }\n",
       "</style>\n",
       "<table border=\"1\" class=\"dataframe\">\n",
       "  <thead>\n",
       "    <tr style=\"text-align: right;\">\n",
       "      <th></th>\n",
       "      <th>movieId</th>\n",
       "      <th>imdbId</th>\n",
       "      <th>tmdbId</th>\n",
       "      <th>count</th>\n",
       "      <th>mean</th>\n",
       "      <th>std</th>\n",
       "      <th>stat_score</th>\n",
       "    </tr>\n",
       "  </thead>\n",
       "  <tbody>\n",
       "    <tr>\n",
       "      <th>0</th>\n",
       "      <td>1</td>\n",
       "      <td>114709</td>\n",
       "      <td>862.0</td>\n",
       "      <td>57309</td>\n",
       "      <td>3.893708</td>\n",
       "      <td>0.921552</td>\n",
       "      <td>5.276036</td>\n",
       "    </tr>\n",
       "    <tr>\n",
       "      <th>1</th>\n",
       "      <td>2</td>\n",
       "      <td>113497</td>\n",
       "      <td>8844.0</td>\n",
       "      <td>24228</td>\n",
       "      <td>3.251527</td>\n",
       "      <td>0.959851</td>\n",
       "      <td>4.691304</td>\n",
       "    </tr>\n",
       "    <tr>\n",
       "      <th>2</th>\n",
       "      <td>3</td>\n",
       "      <td>113228</td>\n",
       "      <td>15602.0</td>\n",
       "      <td>11804</td>\n",
       "      <td>3.142028</td>\n",
       "      <td>1.008443</td>\n",
       "      <td>4.654692</td>\n",
       "    </tr>\n",
       "    <tr>\n",
       "      <th>3</th>\n",
       "      <td>4</td>\n",
       "      <td>114885</td>\n",
       "      <td>31357.0</td>\n",
       "      <td>2523</td>\n",
       "      <td>2.853547</td>\n",
       "      <td>1.108531</td>\n",
       "      <td>4.516344</td>\n",
       "    </tr>\n",
       "    <tr>\n",
       "      <th>4</th>\n",
       "      <td>5</td>\n",
       "      <td>113041</td>\n",
       "      <td>11862.0</td>\n",
       "      <td>11714</td>\n",
       "      <td>3.058434</td>\n",
       "      <td>0.996611</td>\n",
       "      <td>4.553351</td>\n",
       "    </tr>\n",
       "  </tbody>\n",
       "</table>\n",
       "</div>"
      ],
      "text/plain": [
       "   movieId  imdbId   tmdbId  count      mean       std  stat_score\n",
       "0        1  114709    862.0  57309  3.893708  0.921552    5.276036\n",
       "1        2  113497   8844.0  24228  3.251527  0.959851    4.691304\n",
       "2        3  113228  15602.0  11804  3.142028  1.008443    4.654692\n",
       "3        4  114885  31357.0   2523  2.853547  1.108531    4.516344\n",
       "4        5  113041  11862.0  11714  3.058434  0.996611    4.553351"
      ]
     },
     "execution_count": 15,
     "metadata": {},
     "output_type": "execute_result"
    }
   ],
   "source": [
    "recs = 5\n",
    "movie_list = pd.read_csv('data/filtered_links.csv')\n",
    "time_test = movie_list[:recs]\n",
    "time_test.head()"
   ]
  },
  {
   "cell_type": "code",
   "execution_count": 16,
   "metadata": {},
   "outputs": [
    {
     "data": {
      "text/html": [
       "<div>\n",
       "<style scoped>\n",
       "    .dataframe tbody tr th:only-of-type {\n",
       "        vertical-align: middle;\n",
       "    }\n",
       "\n",
       "    .dataframe tbody tr th {\n",
       "        vertical-align: top;\n",
       "    }\n",
       "\n",
       "    .dataframe thead th {\n",
       "        text-align: right;\n",
       "    }\n",
       "</style>\n",
       "<table border=\"1\" class=\"dataframe\">\n",
       "  <thead>\n",
       "    <tr style=\"text-align: right;\">\n",
       "      <th></th>\n",
       "      <th>movieId</th>\n",
       "      <th>imdbId</th>\n",
       "      <th>tmdbId</th>\n",
       "      <th>count</th>\n",
       "      <th>mean</th>\n",
       "      <th>std</th>\n",
       "      <th>stat_score</th>\n",
       "    </tr>\n",
       "  </thead>\n",
       "  <tbody>\n",
       "    <tr>\n",
       "      <th>0</th>\n",
       "      <td>1</td>\n",
       "      <td>114709</td>\n",
       "      <td>862.0</td>\n",
       "      <td>57309</td>\n",
       "      <td>3.893708</td>\n",
       "      <td>0.921552</td>\n",
       "      <td>5.276036</td>\n",
       "    </tr>\n",
       "  </tbody>\n",
       "</table>\n",
       "</div>"
      ],
      "text/plain": [
       "   movieId  imdbId  tmdbId  count      mean       std  stat_score\n",
       "0        1  114709   862.0  57309  3.893708  0.921552    5.276036"
      ]
     },
     "execution_count": 16,
     "metadata": {},
     "output_type": "execute_result"
    }
   ],
   "source": [
    "movie_id = 880 #antonia\n",
    "# movie_id = 114750 # Dear White People\n",
    "# movie_id = 55721 # bridesmaids\n",
    "# movie_id = 629 #The Usual Suspects\n",
    "# movie_id = 496243 #Parasite\n",
    "# movie_id = 50348 # Lincoln Lawyer\n",
    "# movie_id = 637 #Life is Beautiful\n",
    "time_test = movie_list[:5]\n",
    "time_test.head(1)"
   ]
  },
  {
   "cell_type": "code",
   "execution_count": 17,
   "metadata": {},
   "outputs": [],
   "source": [
    "movies = []\n",
    "for i in range(len(time_test)):\n",
    "    curr_movie = Movie()\n",
    "    curr_movie.load_tmdb_features(str(time_test.iloc[i][0]), str(time_test.iloc[i][2]))\n",
    "    curr_movie.load_movielens_features(str(time_test.iloc[i][4]), str(time_test.iloc[i][5]))\n",
    "    movies.append(curr_movie)\n"
   ]
  },
  {
   "cell_type": "markdown",
   "metadata": {},
   "source": [
    "### Reading in the scraped, pickled movie metadata into one dataset."
   ]
  },
  {
   "cell_type": "code",
   "execution_count": 18,
   "metadata": {},
   "outputs": [],
   "source": [
    "with open('data/mv_pkl0_400.pkl', 'rb') as input:\n",
    "    d1 = pickle.load(input)"
   ]
  },
  {
   "cell_type": "code",
   "execution_count": 19,
   "metadata": {},
   "outputs": [],
   "source": [
    "with open('data/mv_pkl_401-1400.pkl', 'rb') as input:\n",
    "    d2 = pickle.load(input)"
   ]
  },
  {
   "cell_type": "code",
   "execution_count": 20,
   "metadata": {},
   "outputs": [],
   "source": [
    "with open('data/mv_pkl1401_10200.pkl', 'rb') as input:\n",
    "    d3 = pickle.load(input)"
   ]
  },
  {
   "cell_type": "code",
   "execution_count": 21,
   "metadata": {},
   "outputs": [],
   "source": [
    "with open('data/mv_pkl_10200_12800.pkl', 'rb') as input:\n",
    "    d4 = pickle.load(input)"
   ]
  },
  {
   "cell_type": "code",
   "execution_count": 22,
   "metadata": {},
   "outputs": [],
   "source": [
    "with open('data/mv_pkl_12800_14600.pkl', 'rb') as input:\n",
    "    d5 = pickle.load(input)"
   ]
  },
  {
   "cell_type": "code",
   "execution_count": 23,
   "metadata": {},
   "outputs": [],
   "source": [
    "with open('data/mv_pkl_14600_15000.pkl', 'rb') as input:\n",
    "    d6 = pickle.load(input)"
   ]
  },
  {
   "cell_type": "code",
   "execution_count": 37,
   "metadata": {},
   "outputs": [],
   "source": [
    "movie_meta = d1[:401] + d2 + d3 + d4 + d5 + d6[1:]"
   ]
  },
  {
   "cell_type": "code",
   "execution_count": null,
   "metadata": {},
   "outputs": [],
   "source": [
    "# Creating a pickle backup of all of the movie metadata\n",
    "with open('data/mv_pkl.pkl','wb') as file:\n",
    "    pickle.dump(movie_meta, file)"
   ]
  },
  {
   "cell_type": "markdown",
   "metadata": {},
   "source": [
    "### Converting pickled class objects to dataframe required first converting them to a dictionary."
   ]
  },
  {
   "cell_type": "code",
   "execution_count": 100,
   "metadata": {
    "collapsed": true,
    "jupyter": {
     "outputs_hidden": true
    }
   },
   "outputs": [
    {
     "data": {
      "text/plain": [
       "{'title': 'Toy Story',\n",
       " 'poster_path': '/uXDfjJbdP4ijW5hWSBrPrlKpxab.jpg',\n",
       " 'movielensId': '1.0',\n",
       " 'movielens_mean_rating': '3.8937077945872383',\n",
       " 'movielens_std_rating': '0.9215518909655429',\n",
       " 'tmdbId': '862.0',\n",
       " 'imdbId': 'tt0114709',\n",
       " 'budget': 30000000,\n",
       " 'revenue': 373554033,\n",
       " 'tmdb_popularity': 47.156,\n",
       " 'tmdb_vote_average': 7.9,\n",
       " 'tmdb_vote_count': 12920,\n",
       " 'release_date': 1995,\n",
       " 'tmdb_overview': \"Led by Woody, Andy's toys live happily in his room until Andy's birthday brings Buzz Lightyear onto the scene. Afraid of losing his place in Andy's heart, Woody plots against Buzz. But when circumstances separate Buzz and Woody from their owner, the duo eventually learns to put aside their differences.\",\n",
       " 'tmdb_original_ln': ('en',),\n",
       " 'cast': [{'cast_id': 14,\n",
       "   'character': 'Woody (voice)',\n",
       "   'credit_id': '52fe4284c3a36847f8024f95',\n",
       "   'gender': 2,\n",
       "   'id': 31,\n",
       "   'name': 'Tom Hanks',\n",
       "   'order': 0,\n",
       "   'profile_path': '/xndWFsBlClOJFRdhSt4NBwiPq2o.jpg'},\n",
       "  {'cast_id': 15,\n",
       "   'character': 'Buzz Lightyear (voice)',\n",
       "   'credit_id': '52fe4284c3a36847f8024f99',\n",
       "   'gender': 2,\n",
       "   'id': 12898,\n",
       "   'name': 'Tim Allen',\n",
       "   'order': 1,\n",
       "   'profile_path': '/6qlDjidQSKNcJFHzTXh0gQS83ub.jpg'},\n",
       "  {'cast_id': 16,\n",
       "   'character': 'Mr. Potato Head (voice)',\n",
       "   'credit_id': '52fe4284c3a36847f8024f9d',\n",
       "   'gender': 2,\n",
       "   'id': 7167,\n",
       "   'name': 'Don Rickles',\n",
       "   'order': 2,\n",
       "   'profile_path': '/iJLQV4dcbTUgxlWJakjDldzlMXS.jpg'},\n",
       "  {'cast_id': 17,\n",
       "   'character': 'Slinky Dog (voice)',\n",
       "   'credit_id': '52fe4284c3a36847f8024fa1',\n",
       "   'gender': 2,\n",
       "   'id': 12899,\n",
       "   'name': 'Jim Varney',\n",
       "   'order': 3,\n",
       "   'profile_path': '/j2De8KaACIbi4IX8WfUZGmCW1k2.jpg'},\n",
       "  {'cast_id': 18,\n",
       "   'character': 'Rex (voice)',\n",
       "   'credit_id': '52fe4284c3a36847f8024fa5',\n",
       "   'gender': 2,\n",
       "   'id': 12900,\n",
       "   'name': 'Wallace Shawn',\n",
       "   'order': 4,\n",
       "   'profile_path': '/tiiz0t7fFiaeoujUyejzIiLRYpu.jpg'},\n",
       "  {'cast_id': 19,\n",
       "   'character': 'Hamm (voice)',\n",
       "   'credit_id': '52fe4284c3a36847f8024fa9',\n",
       "   'gender': 2,\n",
       "   'id': 7907,\n",
       "   'name': 'John Ratzenberger',\n",
       "   'order': 5,\n",
       "   'profile_path': '/oRtDEOuIO1yDhTz5dORBdxXuLMO.jpg'},\n",
       "  {'cast_id': 20,\n",
       "   'character': 'Bo Peep (voice)',\n",
       "   'credit_id': '52fe4284c3a36847f8024fad',\n",
       "   'gender': 1,\n",
       "   'id': 8873,\n",
       "   'name': 'Annie Potts',\n",
       "   'order': 6,\n",
       "   'profile_path': '/hWIzkAH7jkSkxBfwdudxbSPxeno.jpg'},\n",
       "  {'cast_id': 26,\n",
       "   'character': 'Andy (voice)',\n",
       "   'credit_id': '52fe4284c3a36847f8024fc1',\n",
       "   'gender': 2,\n",
       "   'id': 1116442,\n",
       "   'name': 'John Morris',\n",
       "   'order': 7,\n",
       "   'profile_path': '/xMtT5UlPYZX7tobi55YFcdgyFp.jpg'},\n",
       "  {'cast_id': 22,\n",
       "   'character': 'Sid (voice)',\n",
       "   'credit_id': '52fe4284c3a36847f8024fb1',\n",
       "   'gender': 2,\n",
       "   'id': 12901,\n",
       "   'name': 'Erik von Detten',\n",
       "   'order': 8,\n",
       "   'profile_path': None},\n",
       "  {'cast_id': 23,\n",
       "   'character': 'Mrs. Davis (voice)',\n",
       "   'credit_id': '52fe4284c3a36847f8024fb5',\n",
       "   'gender': 1,\n",
       "   'id': 12133,\n",
       "   'name': 'Laurie Metcalf',\n",
       "   'order': 9,\n",
       "   'profile_path': '/paZsjbxC1yOw9U3zrrkzcElyaV3.jpg'}],\n",
       " 'tmdb_genre_1': 'Animation',\n",
       " 'tmdb_genre_2': 'Comedy',\n",
       " 'tmdb_genre_3': 'Family'}"
      ]
     },
     "execution_count": 100,
     "metadata": {},
     "output_type": "execute_result"
    }
   ],
   "source": [
    "# Converting the Movie class object to a DataFrame--created a 'convert_to_dict' method to assist with that.\n",
    "movie_meta[0].convert_to_dict()"
   ]
  },
  {
   "cell_type": "code",
   "execution_count": 102,
   "metadata": {},
   "outputs": [],
   "source": [
    "movie_meta_clean = pd.DataFrame.from_records([s.convert_to_dict() for s in movie_meta])"
   ]
  },
  {
   "cell_type": "code",
   "execution_count": null,
   "metadata": {},
   "outputs": [],
   "source": [
    "movie_meta_clean.head(1)"
   ]
  },
  {
   "cell_type": "markdown",
   "metadata": {},
   "source": [
    "### Code snippets used during building of the Movie() class"
   ]
  },
  {
   "cell_type": "code",
   "execution_count": null,
   "metadata": {},
   "outputs": [],
   "source": [
    "# Movie details from TMDB. Contains oveview, genres, budget, revenue, popularity, vote_average, vote_count, release_date, \n",
    "\n",
    "url = f'https://api.themoviedb.org/3/movie/{movie_id}?api_key={api_key}&language=en-US'\n",
    "r = requests.get(url, allow_redirects=False)\n",
    "if r.status_code == 200:\n",
    "    print(f\"Success {r.status_code}, {url}\")\n",
    "\n",
    "soup = BeautifulSoup(r.content, \"html\")\n",
    "soup.prettify()\n",
    "dict = json.loads(soup.get_text())\n",
    "dict"
   ]
  },
  {
   "cell_type": "code",
   "execution_count": null,
   "metadata": {},
   "outputs": [],
   "source": [
    "# Recommendations from TMDB---ooh this looks good. Love the recs under Parasite. Want to see many of these.\n",
    "\n",
    "url = f'https://api.themoviedb.org/3/movie/{movie_id}/recommendations?api_key={api_key}&language=en-US'\n",
    "r = requests.get(url, allow_redirects=False)\n",
    "if r.status_code == 200:\n",
    "    print(f\"Success {r.status_code}, {url}\")\n",
    "\n",
    "soup = BeautifulSoup(r.content, \"html\")\n",
    "soup.prettify()\n",
    "dict = json.loads(soup.get_text())\n",
    "dict['results'][0]\n",
    "for mv in dict['results']:\n",
    "    print(mv['popularity'], mv['vote_average'], mv['vote_count']/mv['vote_average'], mv['title'], mv['release_date'], mv['genre_ids'])"
   ]
  },
  {
   "cell_type": "code",
   "execution_count": null,
   "metadata": {},
   "outputs": [],
   "source": [
    "# Similar from TMDB -- not nearly so helpful. Similars for Parasite are movies made in Korea.\n",
    "# Reviews are also not helpful. They're random and inconsistent.\n",
    "\n",
    "movie_id = 496243\n",
    "url = f'https://api.themoviedb.org/3/movie/{movie_id}/similar?api_key={api_key}&language=en-US'\n",
    "r = requests.get(url, allow_redirects=False)\n",
    "if r.status_code == 200:\n",
    "    print(f\"Success {r.status_code}, {url}\")\n",
    "\n",
    "soup = BeautifulSoup(r.content, \"html\")\n",
    "soup.prettify()\n",
    "dict = json.loads(soup.get_text())\n",
    "dict['results'][0]"
   ]
  },
  {
   "cell_type": "code",
   "execution_count": null,
   "metadata": {},
   "outputs": [],
   "source": [
    "# Genre list from TMDB\n",
    "movie_id = 496243\n",
    "url = f'https://api.themoviedb.org/3/genre/movie/list?api_key={api_key}&language=en-US'\n",
    "r = requests.get(url, allow_redirects=False)\n",
    "if r.status_code == 200:\n",
    "    print(f\"Success {r.status_code}, {url}\")\n",
    "\n",
    "soup = BeautifulSoup(r.content, \"html\")\n",
    "jsoup.prettify()\n",
    "dict = json.loads(soup.get_text())\n",
    "dict\n"
   ]
  },
  {
   "cell_type": "markdown",
   "metadata": {},
   "source": [
    "### NYT reviews. \n",
    "- API using the title returns a link to the review page. Not successful with being able to get actual reviews from the web page. "
   ]
  },
  {
   "cell_type": "code",
   "execution_count": null,
   "metadata": {
    "jupyter": {
     "source_hidden": true
    }
   },
   "outputs": [],
   "source": [
    "# url = f'https://api.nytimes.com/svc/movies/v2/reviews/search.json?query=dear-white-people&api-key={nyt_api_key}'\n",
    "\n",
    "# header_map = [{\"User-Agent\": \"Mozilla/5.0\"}, {\"User-Agent\": \"XY\"}, {}]\n",
    "\n",
    "# r = requests.get(url, allow_redirects=True)\n",
    "# if r.status_code == 200:\n",
    "#     print(f\"Success {r.status_code}, {url}\")\n",
    "#     soup = BeautifulSoup(r.content, \"html\")\n",
    "#     soup.p.string\n",
    "#     print(soup.prettify())\n",
    "#     dict = json.loads(soup.p.get_text())\n",
    "#     url2 = dict['results'][0]['link']['url']\n",
    "#     for header in header_map:\n",
    "#         r2 = requests.get(url2, allow_redirects=True)\n",
    "#         print(r2)\n",
    "#         if r2.status_code == 200:\n",
    "#             print(f\"Redirect success {r2.status_code}, {url2}\")\n",
    "#             soup2 = BeautifulSoup(r2.content, \"html\")\n",
    "#             print(soup2.prettify())\n",
    "#             json_data = soup2.find_all(type=\"application/ld+json\")\n",
    "#             for i in range(len(json_data)):\n",
    "#                 json_soup = json.loads(json_data[i].string)\n",
    "#                 print(json_soup)"
   ]
  },
  {
   "cell_type": "code",
   "execution_count": null,
   "metadata": {},
   "outputs": [],
   "source": []
  }
 ],
 "metadata": {
  "kernelspec": {
   "display_name": "Python 3",
   "language": "python",
   "name": "python3"
  },
  "language_info": {
   "codemirror_mode": {
    "name": "ipython",
    "version": 3
   },
   "file_extension": ".py",
   "mimetype": "text/x-python",
   "name": "python",
   "nbconvert_exporter": "python",
   "pygments_lexer": "ipython3",
   "version": "3.8.3"
  }
 },
 "nbformat": 4,
 "nbformat_minor": 4
}
